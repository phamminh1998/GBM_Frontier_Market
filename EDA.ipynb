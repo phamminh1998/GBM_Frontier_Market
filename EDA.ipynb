{
 "cells": [
  {
   "cell_type": "code",
   "execution_count": 2,
   "metadata": {},
   "outputs": [],
   "source": [
    "import pandas as pd\n",
    "import numpy as np\n",
    "\n",
    "hose_df_2023 = pd.read_csv('./data/hose_df_2023.csv')\n",
    "dse_df_2023 = pd.read_csv('./data/dse_df_2023.csv')\n",
    "hose_parameter = pd.read_csv('./log_parameters.csv')\n",
    "dse_parameter = pd.read_csv('./dse_parameters.csv')\n",
    "hose_df_2023['date'] = pd.to_datetime(hose_df_2023['date'])\n",
    "dse_df_2023['date'] = pd.to_datetime(dse_df_2023['date'])\n",
    "hose_df_2023 = hose_df_2023.sort_values(by=['ticker','date'])\n",
    "dse_df_2023 = dse_df_2023.sort_values(by=['ticker','date'])\n",
    "\n",
    "hose_tickers = hose_df_2023['ticker'].unique()\n",
    "dse_tickers = dse_df_2023['ticker'].unique()\n",
    "\n",
    "# Create EDA with 32 empty row, and 8 columns: hose_ticker, mean_volume, drift, volatility, dse_ticker, mean_volume, drift, volatility\n",
    "eda = pd.DataFrame(np.zeros((32,8)), columns=['hose_ticker','mean_volume_1','drift_1','volatility_1','dse_ticker','mean_volume_2','drift_2','volatility_2'])\n",
    "eda['hose_ticker'] = hose_tickers\n",
    "eda['dse_ticker'] = dse_tickers\n",
    "\n",
    "# Run a for loop for every ticker in hose_tickers\n",
    "for ticker in hose_tickers:\n",
    "    # Calculate the mean volume, drift, and volatility for each ticker in hose_df_2023\n",
    "    mean_volume = hose_df_2023[hose_df_2023['ticker'] == ticker]['volume'].mean()\n",
    "    drift = hose_parameter[hose_parameter['ticker'] == ticker]['mu_annualized'].values[0]\n",
    "    volatility = hose_parameter[hose_parameter['ticker'] == ticker]['sigma_annualized'].values[0]\n",
    "    eda.loc[eda['hose_ticker'] == ticker, 'mean_volume_1'] = round(mean_volume)\n",
    "    eda.loc[eda['hose_ticker'] == ticker, 'drift_1'] = drift\n",
    "    eda.loc[eda['hose_ticker'] == ticker, 'volatility_1'] = volatility\n",
    "\n",
    "# Run a for loop for every ticker in dse_tickers\n",
    "for ticker in dse_tickers:\n",
    "    # Calculate the mean volume, drift, and volatility for each ticker in dse_df_2023\n",
    "    mean_volume = dse_df_2023[dse_df_2023['ticker'] == ticker]['volume'].mean()\n",
    "    drift = dse_parameter[dse_parameter['ticker'] == ticker]['mu_annualized'].values[0]\n",
    "    volatility = dse_parameter[dse_parameter['ticker'] == ticker]['sigma_annualized'].values[0]\n",
    "    eda.loc[eda['dse_ticker'] == ticker, 'mean_volume_2'] = round(mean_volume)\n",
    "    eda.loc[eda['dse_ticker'] == ticker, 'drift_2'] = drift\n",
    "    eda.loc[eda['dse_ticker'] == ticker, 'volatility_2'] = volatility\n",
    "\n",
    "eda.to_csv('./eda.csv', index=False)"
   ]
  }
 ],
 "metadata": {
  "kernelspec": {
   "display_name": "Python 3",
   "language": "python",
   "name": "python3"
  },
  "language_info": {
   "codemirror_mode": {
    "name": "ipython",
    "version": 3
   },
   "file_extension": ".py",
   "mimetype": "text/x-python",
   "name": "python",
   "nbconvert_exporter": "python",
   "pygments_lexer": "ipython3",
   "version": "3.12.2"
  }
 },
 "nbformat": 4,
 "nbformat_minor": 2
}
