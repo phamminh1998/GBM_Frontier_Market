{
  "cells": [
    {
      "cell_type": "markdown",
      "metadata": {
        "colab_type": "text",
        "id": "view-in-github"
      },
      "source": [
        "<a href=\"https://colab.research.google.com/github/phamminh1998/GBM_Frontier_Market/blob/main/thesis_simulation_code.ipynb\" target=\"_parent\"><img src=\"https://colab.research.google.com/assets/colab-badge.svg\" alt=\"Open In Colab\"/></a>"
      ]
    },
    {
      "cell_type": "code",
      "execution_count": 2,
      "metadata": {},
      "outputs": [
        {
          "name": "stdout",
          "output_type": "stream",
          "text": [
            "pandas is already installed.\n",
            "numpy is already installed.\n",
            "matplotlib is already installed.\n"
          ]
        }
      ],
      "source": [
        "import importlib.util\n",
        "import subprocess\n",
        "import sys\n",
        "\n",
        "def install_and_import(module_name):\n",
        "    if importlib.util.find_spec(module_name) is None:\n",
        "        print(f\"{module_name} not found. Installing...\")\n",
        "        subprocess.check_call([sys.executable, \"-m\", \"pip\", \"install\", module_name])\n",
        "    else:\n",
        "        print(f\"{module_name} is already installed.\")\n",
        "\n",
        "# Use the function for the libraries\n",
        "install_and_import('pandas')\n",
        "install_and_import('numpy')\n",
        "install_and_import('matplotlib')"
      ]
    },
    {
      "cell_type": "markdown",
      "metadata": {
        "id": "7ml83kKpn-Lz"
      },
      "source": [
        "# 1. Estimate parameter"
      ]
    },
    {
      "cell_type": "code",
      "execution_count": 3,
      "metadata": {
        "colab": {
          "base_uri": "https://localhost:8080/"
        },
        "id": "RzXtp3VjnyKc",
        "outputId": "f9ae4a4c-1caf-48b9-cce6-648fccdb2ec7"
      },
      "outputs": [
        {
          "name": "stdout",
          "output_type": "stream",
          "text": [
            "          date ticker   open   high    low  close   volume\n",
            "248 2022-01-04    ACB  34.80  34.80  34.25  34.40  5403400\n",
            "247 2022-01-05    ACB  34.35  34.35  33.65  33.70  6839700\n",
            "246 2022-01-06    ACB  33.50  34.00  33.10  33.75  7482700\n",
            "245 2022-01-07    ACB  33.90  33.95  33.30  33.30  9895200\n",
            "244 2022-01-10    ACB  33.00  33.40  32.95  33.00  9460100\n",
            "<class 'pandas.core.frame.DataFrame'>\n",
            "Index: 7968 entries, 248 to 7221\n",
            "Data columns (total 7 columns):\n",
            " #   Column  Non-Null Count  Dtype         \n",
            "---  ------  --------------  -----         \n",
            " 0   date    7968 non-null   datetime64[ns]\n",
            " 1   ticker  7968 non-null   object        \n",
            " 2   open    7968 non-null   float64       \n",
            " 3   high    7968 non-null   float64       \n",
            " 4   low     7968 non-null   float64       \n",
            " 5   close   7968 non-null   float64       \n",
            " 6   volume  7968 non-null   int64         \n",
            "dtypes: datetime64[ns](1), float64(4), int64(1), object(1)\n",
            "memory usage: 498.0+ KB\n",
            "None\n"
          ]
        }
      ],
      "source": [
        "import pandas as pd\n",
        "\n",
        "# Load the data\n",
        "data_path = './data/hose_df_2022.csv'\n",
        "hose_df_2022 = pd.read_csv(data_path)\n",
        "\n",
        "# Convert 'date' column to datetime format\n",
        "hose_df_2022['date'] = pd.to_datetime(hose_df_2022['date'])\n",
        "\n",
        "# Sort the dataframe by ticker and date\n",
        "hose_df_2022.sort_values(['ticker', 'date'], inplace=True)\n",
        "\n",
        "\n",
        "# Display the first few rows of the dataframe\n",
        "print(hose_df_2022.head())\n",
        "\n",
        "# Display basic information about the dataframe\n",
        "print(hose_df_2022.info())"
      ]
    },
    {
      "cell_type": "code",
      "execution_count": 4,
      "metadata": {
        "colab": {
          "base_uri": "https://localhost:8080/"
        },
        "id": "dYnlOzc3NALi",
        "outputId": "1f589d3d-771f-428a-d7a4-5917b2b29a9c"
      },
      "outputs": [
        {
          "name": "stdout",
          "output_type": "stream",
          "text": [
            "ticker\n",
            "ACB         -0.001496\n",
            "BCM          0.001225\n",
            "BID          0.000514\n",
            "BVH         -0.000471\n",
            "CTG         -0.000606\n",
            "FPT         -0.000458\n",
            "GAS          0.000340\n",
            "GVR         -0.003464\n",
            "HDB         -0.002381\n",
            "HPG         -0.003251\n",
            "MBB         -0.001734\n",
            "MSN         -0.001971\n",
            "MWG         -0.003669\n",
            "NVL         -0.007069\n",
            "PDR         -0.007203\n",
            "PLX         -0.001988\n",
            "POW         -0.001787\n",
            "SAB          0.000403\n",
            "SSI         -0.003808\n",
            "STB         -0.000899\n",
            "TCB         -0.002373\n",
            "TPB         -0.002524\n",
            "VCB          0.000227\n",
            "VHM         -0.002092\n",
            "VIB         -0.003114\n",
            "VIC         -0.002330\n",
            "VJC         -0.000428\n",
            "VN30INDEX   -0.001628\n",
            "VNINDEX     -0.001550\n",
            "VNM         -0.000372\n",
            "VPB         -0.002213\n",
            "VRE         -0.000269\n",
            "Name: drift, dtype: float64\n",
            "ticker\n",
            "ACB          0.025008\n",
            "BCM          0.028542\n",
            "BID          0.027779\n",
            "BVH          0.025752\n",
            "CTG          0.027308\n",
            "FPT          0.025047\n",
            "GAS          0.026646\n",
            "GVR          0.033587\n",
            "HDB          0.024419\n",
            "HPG          0.033595\n",
            "MBB          0.028247\n",
            "MSN          0.030072\n",
            "MWG          0.040340\n",
            "NVL          0.026591\n",
            "PDR          0.033556\n",
            "PLX          0.024262\n",
            "POW          0.030869\n",
            "SAB          0.017692\n",
            "SSI          0.034687\n",
            "STB          0.032590\n",
            "TCB          0.026555\n",
            "TPB          0.025578\n",
            "VCB          0.018794\n",
            "VHM          0.020735\n",
            "VIB          0.032673\n",
            "VIC          0.020336\n",
            "VJC          0.016664\n",
            "VN30INDEX    0.016691\n",
            "VNINDEX      0.015658\n",
            "VNM          0.017621\n",
            "VPB          0.032988\n",
            "VRE          0.028731\n",
            "Name: volatility, dtype: float64\n"
          ]
        }
      ],
      "source": [
        "  # Calculate daily returns for each ticker\n",
        "hose_df_2022['daily_return'] = hose_df_2022.groupby('ticker')['close'].pct_change()\n",
        "\n",
        "# Calculate the drift (µ) for each ticker base on last full year\n",
        "drift = hose_df_2022.groupby('ticker')['daily_return'].mean()\n",
        "drift = drift.rename('drift')\n",
        "print(drift)\n",
        "\n",
        "# Calculate the square of the differences between each daily return and the mean return\n",
        "hose_df_2022['return_diff_sq'] = (hose_df_2022['daily_return'] - hose_df_2022.groupby('ticker')['daily_return'].transform('mean'))**2\n",
        "\n",
        "# Calculate the volatility (σ) for each ticker\n",
        "volatility = hose_df_2022.groupby('ticker')['return_diff_sq'].mean() ** 0.5\n",
        "volatility = volatility.rename('volatility')\n",
        "print(volatility)"
      ]
    },
    {
      "cell_type": "code",
      "execution_count": 5,
      "metadata": {},
      "outputs": [],
      "source": [
        "# Assuming 'drift' is a pandas DataFrame or Series\n",
        "drift.to_csv('./data/hose_drift_1.csv')"
      ]
    },
    {
      "cell_type": "code",
      "execution_count": 6,
      "metadata": {},
      "outputs": [
        {
          "name": "stdout",
          "output_type": "stream",
          "text": [
            "       ticker        mu     sigma  mu_annualized  sigma_annualized\n",
            "0         ACB -0.001860  0.025599      -0.463131          0.403943\n",
            "1         BCM  0.000907  0.028497       0.225939          0.449675\n",
            "2         BID  0.000105  0.027770       0.026248          0.438196\n",
            "3         BVH -0.000738  0.025849      -0.183751          0.407890\n",
            "4         CTG -0.000942  0.027318      -0.234455          0.431073\n",
            "5         FPT -0.000781  0.025997      -0.194385          0.410222\n",
            "6         GAS  0.000186  0.026841       0.046379          0.423551\n",
            "7         GVR -0.003982  0.033831      -0.991640          0.533846\n",
            "8         HDB -0.002688  0.024972      -0.669355          0.394054\n",
            "9         HPG -0.003837  0.034743      -0.955511          0.548243\n",
            "10        MBB -0.002149  0.028694      -0.535090          0.452791\n",
            "11        MSN -0.002446  0.030338      -0.609064          0.478723\n",
            "12        MWG -0.004631  0.048278      -1.153047          0.761814\n",
            "13        NVL -0.007495  0.027015      -1.866293          0.426294\n",
            "14        PDR -0.007815  0.035051      -1.945910          0.553092\n",
            "15        PLX -0.002169  0.024460      -0.540047          0.385977\n",
            "16        POW -0.002040  0.031243      -0.508005          0.493000\n",
            "17        SAB  0.000376  0.017787       0.093514          0.280682\n",
            "18        SSI -0.004366  0.034804      -1.087249          0.549193\n",
            "19        STB -0.001415  0.032634      -0.352221          0.514952\n",
            "20        TCB -0.002689  0.026710      -0.669663          0.421473\n",
            "21        TPB -0.002726  0.025731      -0.678793          0.406026\n",
            "22        VCB  0.000051  0.018740       0.012579          0.295709\n",
            "23        VHM -0.002185  0.020747      -0.544019          0.327377\n",
            "24        VIB -0.003718  0.035116      -0.925720          0.554114\n",
            "25        VIC -0.002326  0.020593      -0.579075          0.324945\n",
            "26        VJC -0.000636  0.016612      -0.158447          0.262131\n",
            "27  VN30INDEX -0.001725  0.016750      -0.429511          0.264313\n",
            "28    VNINDEX -0.001622  0.015725      -0.403819          0.248135\n",
            "29        VNM -0.000547  0.017501      -0.136156          0.276165\n",
            "30        VPB -0.002823  0.035827      -0.702876          0.565345\n",
            "31        VRE -0.000569  0.028776      -0.141579          0.454082\n"
          ]
        }
      ],
      "source": [
        "import numpy as np\n",
        "import pandas as pd\n",
        "\n",
        "# Assuming hose_df_2022 is already loaded as a pandas DataFrame\n",
        "# Ensure the data is sorted by ticker and date\n",
        "hose_df_2022 = hose_df_2022.sort_values(by=['ticker', 'date'])\n",
        "\n",
        "# Initialize an empty list to store results\n",
        "parameters = []\n",
        "\n",
        "# Group by ticker and iterate over each group\n",
        "for ticker, group in hose_df_2022.groupby('ticker'):\n",
        "    # Calculate log returns\n",
        "    log_returns = []\n",
        "    \n",
        "    for i in range(len(group)):\n",
        "        if i == 0:\n",
        "            # First day: compare 'close' with 'open'\n",
        "            log_return = np.log(group.iloc[i]['close'] / group.iloc[i]['open'])\n",
        "        else:\n",
        "            # Rest of the days: compare 'close' with previous day's 'close'\n",
        "            log_return = np.log(group.iloc[i]['close'] / group.iloc[i - 1]['close'])\n",
        "        log_returns.append(log_return)\n",
        "    \n",
        "    # Convert log returns to a numpy array\n",
        "    log_returns = np.array(log_returns)\n",
        "    \n",
        "    # Calculate mean (drift) and standard deviation (volatility) of log returns\n",
        "    mu = log_returns.mean()\n",
        "    sigma = log_returns.std()\n",
        "    \n",
        "    # Annualize the parameters\n",
        "    trading_days = 249\n",
        "    mu_annualized = mu * trading_days\n",
        "    sigma_annualized = sigma * np.sqrt(trading_days)\n",
        "    \n",
        "    # Append the results for the current ticker\n",
        "    parameters.append({\n",
        "        'ticker': ticker,\n",
        "        'mu': mu,\n",
        "        'sigma': sigma,\n",
        "        'mu_annualized': mu_annualized,\n",
        "        'sigma_annualized': sigma_annualized\n",
        "    })\n",
        "\n",
        "# Convert the results to a DataFrame for easier viewing\n",
        "parameters = pd.DataFrame(parameters)\n",
        "\n",
        "print(parameters)"
      ]
    },
    {
      "cell_type": "code",
      "execution_count": 7,
      "metadata": {},
      "outputs": [
        {
          "name": "stdout",
          "output_type": "stream",
          "text": [
            "\n",
            "Info:\n",
            "<class 'pandas.core.frame.DataFrame'>\n",
            "RangeIndex: 32 entries, 0 to 31\n",
            "Data columns (total 5 columns):\n",
            " #   Column            Non-Null Count  Dtype  \n",
            "---  ------            --------------  -----  \n",
            " 0   ticker            32 non-null     object \n",
            " 1   mu                32 non-null     float64\n",
            " 2   sigma             32 non-null     float64\n",
            " 3   mu_annualized     32 non-null     float64\n",
            " 4   sigma_annualized  32 non-null     float64\n",
            "dtypes: float64(4), object(1)\n",
            "memory usage: 1.4+ KB\n",
            "\n",
            "Summary Statistics:\n",
            "              mu      sigma  mu_annualized  sigma_annualized\n",
            "count  32.000000  32.000000      32.000000         32.000000\n",
            "mean   -0.002165   0.027205      -0.539192          0.429282\n",
            "std     0.002022   0.007134       0.503533          0.112566\n",
            "min    -0.007815   0.015725      -1.945910          0.248135\n",
            "25%    -0.002750   0.023532      -0.684814          0.371327\n",
            "50%    -0.002095   0.026928      -0.521547          0.424923\n",
            "75%    -0.000713   0.031590      -0.177425          0.498488\n",
            "max     0.000907   0.048278       0.225939          0.761814\n",
            "Parameters have been saved to 'log_parameters.csv'\n"
          ]
        }
      ],
      "source": [
        "# Get concise summary information\n",
        "print(\"\\nInfo:\")\n",
        "parameters.info()\n",
        "\n",
        "# Get summary statistics\n",
        "print(\"\\nSummary Statistics:\")\n",
        "print(parameters.describe())\n",
        "\n",
        "# Save the parameters DataFrame to a CSV file in the root directory\n",
        "parameters.to_csv('log_parameters.csv', index=False)\n",
        "print(\"Parameters have been saved to 'log_parameters.csv'\")"
      ]
    },
    {
      "cell_type": "code",
      "execution_count": 8,
      "metadata": {},
      "outputs": [
        {
          "data": {
            "text/plain": [
              "0    {'ticker': 'ACB', 'drift': -0.0018599628512368...\n",
              "1    {'ticker': 'BCM', 'drift': 0.0009073856155381923}\n",
              "2    {'ticker': 'BID', 'drift': 0.00010541456254994...\n",
              "3     {'ticker': 'BVH', 'drift': -0.00073795642411064}\n",
              "4    {'ticker': 'CTG', 'drift': -0.0009415882584353...\n",
              "dtype: object"
            ]
          },
          "execution_count": 8,
          "metadata": {},
          "output_type": "execute_result"
        }
      ],
      "source": [
        "import numpy as np\n",
        "import pandas as pd\n",
        "\n",
        "# Ensure the data is sorted by ticker and date\n",
        "hose_df_2022 = hose_df_2022.sort_values(by=['ticker', 'date'])\n",
        "\n",
        "# Initialize an empty list to store results\n",
        "drift2 = []\n",
        "volatility2 = []\n",
        "\n",
        "# Group by ticker and iterate over each group\n",
        "for ticker, group in hose_df_2022.groupby('ticker'):\n",
        "    # Calculate log returns\n",
        "    log_returns = []\n",
        "    \n",
        "    for i in range(len(group)):\n",
        "        if i == 0:\n",
        "            # First day: compare 'close' with 'open'\n",
        "            log_return = np.log(group.iloc[i]['close'] / group.iloc[i]['open'])\n",
        "        else:\n",
        "            # Rest of the days: compare 'close' with previous day's 'close'\n",
        "            log_return = np.log(group.iloc[i]['close'] / group.iloc[i - 1]['close'])\n",
        "        log_returns.append(log_return)\n",
        "    \n",
        "    # Convert log returns to a numpy array\n",
        "    log_returns = pd.Series(log_returns)\n",
        "    \n",
        "    # Calculate mean (drift) and standard deviation (volatility) of log returns\n",
        "    mu = log_returns.mean()\n",
        "    sigma = log_returns.std()\n",
        "    \n",
        "    # Append the results for the current ticker\n",
        "    drift2.append({\n",
        "        'ticker': ticker,\n",
        "        'drift': mu })\n",
        "    volatility2.append({\n",
        "        'ticker': ticker,\n",
        "        'volatility': sigma })\n",
        "# Convert the results to a DataFrame for easier viewing\n",
        "drift2 = pd.Series(drift2)\n",
        "volatility2 = pd.Series(volatility2)\n",
        "drift2.head()"
      ]
    },
    {
      "cell_type": "markdown",
      "metadata": {
        "id": "WmtMuOod0XW3"
      },
      "source": [
        "# 2. GBM simulator"
      ]
    },
    {
      "cell_type": "code",
      "execution_count": 4,
      "metadata": {
        "colab": {
          "base_uri": "https://localhost:8080/"
        },
        "id": "BqZDsHRw1N-8",
        "outputId": "e2268162-ad8f-4172-b9f3-16c48b46833a"
      },
      "outputs": [
        {
          "name": "stdout",
          "output_type": "stream",
          "text": [
            "           date ticker   open   high    low  close   volume\n",
            "248  2023-01-03    ACB  22.00  22.70  21.95  22.70  1547700\n",
            "247  2023-01-04    ACB  22.85  22.85  22.55  22.65  7244400\n",
            "246  2023-01-05    ACB  22.75  23.00  22.65  22.85  2104500\n",
            "245  2023-01-06    ACB  22.80  23.35  22.60  23.15  8403100\n",
            "244  2023-01-09    ACB  23.35  23.35  22.95  23.10  2491075\n",
            "...         ...    ...    ...    ...    ...    ...      ...\n",
            "7225 2023-12-25    VRE  22.85  23.40  22.85  23.40  3490400\n",
            "7224 2023-12-26    VRE  23.35  23.50  23.15  23.30  2651000\n",
            "7223 2023-12-27    VRE  23.30  23.45  23.20  23.25  3220300\n",
            "7222 2023-12-28    VRE  23.25  23.70  23.25  23.50  6285000\n",
            "7221 2023-12-29    VRE  23.65  23.65  23.30  23.30  4609200\n",
            "\n",
            "[7968 rows x 7 columns]\n",
            "<class 'pandas.core.frame.DataFrame'>\n",
            "Index: 7968 entries, 248 to 7221\n",
            "Data columns (total 7 columns):\n",
            " #   Column  Non-Null Count  Dtype         \n",
            "---  ------  --------------  -----         \n",
            " 0   date    7968 non-null   datetime64[ns]\n",
            " 1   ticker  7968 non-null   object        \n",
            " 2   open    7968 non-null   float64       \n",
            " 3   high    7968 non-null   float64       \n",
            " 4   low     7968 non-null   float64       \n",
            " 5   close   7968 non-null   float64       \n",
            " 6   volume  7968 non-null   int64         \n",
            "dtypes: datetime64[ns](1), float64(4), int64(1), object(1)\n",
            "memory usage: 498.0+ KB\n",
            "None\n"
          ]
        }
      ],
      "source": [
        "import pandas as pd\n",
        "\n",
        "# Load the data\n",
        "data_path = './data/hose_df_2023.csv'\n",
        "hose_df_2023 = pd.read_csv(data_path)\n",
        "\n",
        "# Convert 'date' column to datetime format\n",
        "hose_df_2023['date'] = pd.to_datetime(hose_df_2023['date'])\n",
        "\n",
        "# Sort the dataframe by ticker and date\n",
        "hose_df_2023.sort_values(['ticker', 'date'], inplace=True)\n",
        "\n",
        "#inspect dataframe\n",
        "print(hose_df_2023)\n",
        "print(hose_df_2023.info())"
      ]
    },
    {
      "cell_type": "code",
      "execution_count": 5,
      "metadata": {
        "id": "nFMU51N0Yb79"
      },
      "outputs": [],
      "source": [
        "import pandas as pd\n",
        "from gbm import GBM_Simulator\n",
        "\n",
        "# Load the parameters DataFrame\n",
        "parameters = pd.read_csv('log_parameters.csv')\n",
        "\n",
        "# Directory to save the GBM simulation outputs\n",
        "output_dir = 'gbm_price'\n",
        "\n",
        "# Iterate over each ticker in the 2023 data\n",
        "for ticker in hose_df_2023['ticker'].unique():\n",
        "    # Get the data for the current ticker\n",
        "    ticker_data = hose_df_2023[hose_df_2023['ticker'] == ticker]\n",
        "\n",
        "    # Get the start and end dates\n",
        "    start_date = ticker_data['date'].min().strftime('%Y-%m-%d')\n",
        "    end_date = ticker_data['date'].max().strftime('%Y-%m-%d')\n",
        "\n",
        "    # Get the initial price (open price of the first day)\n",
        "    init_price = ticker_data.iloc[0]['open']\n",
        "\n",
        "    # Get the annualized parameters for the current ticker\n",
        "    ticker_params = parameters[parameters['ticker'] == ticker]\n",
        "    if ticker_params.empty:\n",
        "        continue  # Skip if no parameters found for the ticker\n",
        "    mu_annualized = ticker_params['mu_annualized'].values[0]\n",
        "    sigma_annualized = ticker_params['sigma_annualized'].values[0]\n",
        "\n",
        "    # Number of business days between start_date and end_date\n",
        "    n = len(pd.date_range(start_date, end_date, freq='B'))\n",
        "\n",
        "    # Run the GBM simulation\n",
        "    simulator = GBM_Simulator(\n",
        "        start_date=start_date,\n",
        "        end_date=end_date,\n",
        "        output_dir=output_dir,\n",
        "        T=1,  # Time in years\n",
        "        n=n,\n",
        "        symbol=ticker,\n",
        "        init_price=init_price,\n",
        "        mu=mu_annualized,\n",
        "        sigma=sigma_annualized,\n",
        "        num_sims=100\n",
        "    )\n",
        "    simulator()"
      ]
    },
    {
      "cell_type": "code",
      "execution_count": 6,
      "metadata": {
        "colab": {
          "base_uri": "https://localhost:8080/",
          "height": 498
        },
        "id": "isatEHxH3J24",
        "outputId": "4254a9bc-a7c4-41bd-88cb-878b55683251"
      },
      "outputs": [
        {
          "ename": "ValueError",
          "evalue": "Sample larger than population or is negative",
          "output_type": "error",
          "traceback": [
            "\u001b[1;31m---------------------------------------------------------------------------\u001b[0m",
            "\u001b[1;31mValueError\u001b[0m                                Traceback (most recent call last)",
            "Cell \u001b[1;32mIn[6], line 34\u001b[0m\n\u001b[0;32m     31\u001b[0m plt\u001b[38;5;241m.\u001b[39mfigure(figsize\u001b[38;5;241m=\u001b[39m(\u001b[38;5;241m10\u001b[39m, \u001b[38;5;241m6\u001b[39m))\n\u001b[0;32m     33\u001b[0m \u001b[38;5;66;03m# Plot randomly selected 50 GBM paths\u001b[39;00m\n\u001b[1;32m---> 34\u001b[0m gbm_paths \u001b[38;5;241m=\u001b[39m \u001b[43mrandom\u001b[49m\u001b[38;5;241;43m.\u001b[39;49m\u001b[43msample\u001b[49m\u001b[43m(\u001b[49m\u001b[38;5;28;43mlist\u001b[39;49m\u001b[43m(\u001b[49m\u001b[43maverage_path_data\u001b[49m\u001b[38;5;241;43m.\u001b[39;49m\u001b[43mcolumns\u001b[49m\u001b[43m[\u001b[49m\u001b[38;5;241;43m1\u001b[39;49m\u001b[43m:\u001b[49m\u001b[43m]\u001b[49m\u001b[43m)\u001b[49m\u001b[43m,\u001b[49m\u001b[43m \u001b[49m\u001b[38;5;241;43m50\u001b[39;49m\u001b[43m)\u001b[49m\n\u001b[0;32m     35\u001b[0m \u001b[38;5;28;01mfor\u001b[39;00m col \u001b[38;5;129;01min\u001b[39;00m gbm_paths:\n\u001b[0;32m     36\u001b[0m     plt\u001b[38;5;241m.\u001b[39mplot(average_path_data[\u001b[38;5;124m'\u001b[39m\u001b[38;5;124mdate\u001b[39m\u001b[38;5;124m'\u001b[39m], average_path_data[col], alpha\u001b[38;5;241m=\u001b[39m\u001b[38;5;241m0.3\u001b[39m)\n",
            "File \u001b[1;32mc:\\Users\\MINH\\AppData\\Local\\Programs\\Python\\Python312\\Lib\\random.py:430\u001b[0m, in \u001b[0;36mRandom.sample\u001b[1;34m(self, population, k, counts)\u001b[0m\n\u001b[0;32m    428\u001b[0m randbelow \u001b[38;5;241m=\u001b[39m \u001b[38;5;28mself\u001b[39m\u001b[38;5;241m.\u001b[39m_randbelow\n\u001b[0;32m    429\u001b[0m \u001b[38;5;28;01mif\u001b[39;00m \u001b[38;5;129;01mnot\u001b[39;00m \u001b[38;5;241m0\u001b[39m \u001b[38;5;241m<\u001b[39m\u001b[38;5;241m=\u001b[39m k \u001b[38;5;241m<\u001b[39m\u001b[38;5;241m=\u001b[39m n:\n\u001b[1;32m--> 430\u001b[0m     \u001b[38;5;28;01mraise\u001b[39;00m \u001b[38;5;167;01mValueError\u001b[39;00m(\u001b[38;5;124m\"\u001b[39m\u001b[38;5;124mSample larger than population or is negative\u001b[39m\u001b[38;5;124m\"\u001b[39m)\n\u001b[0;32m    431\u001b[0m result \u001b[38;5;241m=\u001b[39m [\u001b[38;5;28;01mNone\u001b[39;00m] \u001b[38;5;241m*\u001b[39m k\n\u001b[0;32m    432\u001b[0m setsize \u001b[38;5;241m=\u001b[39m \u001b[38;5;241m21\u001b[39m        \u001b[38;5;66;03m# size of a small set minus size of an empty list\u001b[39;00m\n",
            "\u001b[1;31mValueError\u001b[0m: Sample larger than population or is negative"
          ]
        },
        {
          "data": {
            "text/plain": [
              "<Figure size 1000x600 with 0 Axes>"
            ]
          },
          "metadata": {},
          "output_type": "display_data"
        }
      ],
      "source": [
        "import matplotlib.pyplot as plt\n",
        "import pandas as pd\n",
        "import random\n",
        "\n",
        "# Read the average path data\n",
        "average_path_data = pd.read_csv('./gbm_price/ACB.csv')\n",
        "\n",
        "# Convert 'date' column to datetime format\n",
        "average_path_data['date'] = pd.to_datetime(average_path_data['date'])\n",
        "\n",
        "# Filter actual price data for ACB from hose_df_2023\n",
        "actual_price_data = hose_df_2023[hose_df_2023['ticker'] == 'ACB'][['date', 'open', 'close']]\n",
        "\n",
        "# Calculate the new starting date as one day before the minimum date\n",
        "t0_date = actual_price_data['date'].min() - pd.Timedelta(days=1)\n",
        "\n",
        "# Get the open price on the minimum date\n",
        "t0_price = actual_price_data['open'].values[0]\n",
        "\n",
        "# Add a new row at the beginning of the actual price data\n",
        "new_row_actual = pd.DataFrame({'date': [t0_date], 'open': [t0_price], 'close': [t0_price]})\n",
        "actual_price_data = pd.concat([new_row_actual, actual_price_data], ignore_index=True)\n",
        "\n",
        "# Add a new row at the beginning of the GBM path data\n",
        "new_row_gbm = pd.DataFrame({'date': [start_date]})\n",
        "for col in average_path_data.columns[1:]:\n",
        "    new_row_gbm[col] = t0_price\n",
        "average_path_data = pd.concat([new_row_gbm, average_path_data], ignore_index=True)\n",
        "\n",
        "# Plot actual price and average GBM path\n",
        "plt.figure(figsize=(10, 6))\n",
        "\n",
        "# Plot randomly selected 50 GBM paths\n",
        "gbm_paths = random.sample(list(average_path_data.columns[1:]), 50)\n",
        "for col in gbm_paths:\n",
        "    plt.plot(average_path_data['date'], average_path_data[col], alpha=0.3)\n",
        "\n",
        "# Plot average GBM path with a bold line\n",
        "plt.plot(average_path_data['date'], average_path_data['average'], label='GBM Average Path', color='blue', linewidth=2)\n",
        "\n",
        "# Plot actual price\n",
        "plt.plot(actual_price_data['date'], actual_price_data['close'], label='Actual Price', color='black')\n",
        "\n",
        "plt.xlabel('Date')\n",
        "plt.ylabel('Price')\n",
        "plt.title('Comparison of Actual Price and GBM Average Path for ACB')\n",
        "plt.legend()\n",
        "plt.xticks(rotation=45)\n",
        "plt.grid(True)\n",
        "plt.tight_layout()\n",
        "plt.show()"
      ]
    }
  ],
  "metadata": {
    "colab": {
      "authorship_tag": "ABX9TyPnNOonTvfsEFyAJ5HvpbFf",
      "include_colab_link": true,
      "provenance": []
    },
    "kernelspec": {
      "display_name": "Python 3",
      "name": "python3"
    },
    "language_info": {
      "codemirror_mode": {
        "name": "ipython",
        "version": 3
      },
      "file_extension": ".py",
      "mimetype": "text/x-python",
      "name": "python",
      "nbconvert_exporter": "python",
      "pygments_lexer": "ipython3",
      "version": "3.12.2"
    }
  },
  "nbformat": 4,
  "nbformat_minor": 0
}
