{
  "nbformat": 4,
  "nbformat_minor": 0,
  "metadata": {
    "colab": {
      "provenance": []
    },
    "kernelspec": {
      "name": "python3",
      "display_name": "Python 3"
    },
    "language_info": {
      "name": "python"
    }
  },
  "cells": [
    {
      "cell_type": "code",
      "source": [
        "# Mount Google Drive\n",
        "from google.colab import drive\n",
        "drive.mount('/content/drive')\n"
      ],
      "metadata": {
        "colab": {
          "base_uri": "https://localhost:8080/"
        },
        "id": "4IEcLiivoQg-",
        "outputId": "38369395-91c7-40d4-8321-c46538720630"
      },
      "execution_count": 41,
      "outputs": [
        {
          "output_type": "stream",
          "name": "stdout",
          "text": [
            "Drive already mounted at /content/drive; to attempt to forcibly remount, call drive.mount(\"/content/drive\", force_remount=True).\n"
          ]
        }
      ]
    },
    {
      "cell_type": "code",
      "source": [
        "# Import and pre-process 2023 data of DSE\n",
        "import os\n",
        "import pandas as pd\n",
        "\n",
        "# Path to your CSV files\n",
        "csv_folder_path = '/content/drive/My Drive/BISS/EMTH0009 - Master Thesis/Data/DSE_data_2023'\n",
        "\n",
        "# Read CSV files and store in a dictionary\n",
        "DSE_dict_2023 = {}\n",
        "for filename in os.listdir(csv_folder_path):\n",
        "    if filename.endswith('.csv'):\n",
        "        # Extract date from filename\n",
        "        date = filename.split('_')[-1].split('.')[0]\n",
        "        # Read CSV file into DataFrame\n",
        "        df = pd.read_csv(os.path.join(csv_folder_path, filename))\n",
        "        # Add DataFrame to dictionary with date as key\n",
        "        DSE_dict_2023[date] = df"
      ],
      "metadata": {
        "id": "16JsnQbwIekT"
      },
      "execution_count": 42,
      "outputs": []
    },
    {
      "cell_type": "code",
      "source": [
        "# Example: Access DataFrame of DSE for a specific date\n",
        "date = '20230101'  # Change this to the date you want\n",
        "if date in DSE_dict_2023:\n",
        "    print(\"Data for\", date)\n",
        "    print(DSE_dict_2023[date])\n",
        "else:\n",
        "    print(\"Data for\", date, \"not found\")"
      ],
      "metadata": {
        "colab": {
          "base_uri": "https://localhost:8080/"
        },
        "id": "vsoJvIWMpJk6",
        "outputId": "c57dafba-30b6-4aa0-902c-38999683d7e9"
      },
      "execution_count": 43,
      "outputs": [
        {
          "output_type": "stream",
          "name": "stdout",
          "text": [
            "Data for 20230101\n",
            "         Date       Scrip        Open        High         Low       Close  \\\n",
            "0    20230101      00DS30  2195.30158  2205.14579  2192.68497  2193.60229   \n",
            "1    20230101      00DSES  1358.83640  1365.93691  1355.43267  1355.59149   \n",
            "2    20230101      00DSEX  6206.81389  6222.89281  6194.37735  6195.37281   \n",
            "3    20230101  1STPRIMFMF    16.40000    16.40000    16.40000    16.40000   \n",
            "4    20230101    AAMRANET    52.80000    52.80000    49.70000    50.30000   \n",
            "..        ...         ...         ...         ...         ...         ...   \n",
            "329  20230101    WATACHEM   200.20000   200.20000   200.20000   200.20000   \n",
            "330  20230101  WMSHIPYARD    11.00000    11.00000    11.00000    11.00000   \n",
            "331  20230101         YPL    18.70000    18.70000    18.70000    18.70000   \n",
            "332  20230101  ZAHEENSPIN    12.30000    12.30000    12.30000    12.30000   \n",
            "333  20230101  ZEALBANGLA   170.80000   170.80000   170.80000   170.80000   \n",
            "\n",
            "         Volume  \n",
            "0    1784259000  \n",
            "1    1784259000  \n",
            "2    1784259000  \n",
            "3           512  \n",
            "4       1051934  \n",
            "..          ...  \n",
            "329         130  \n",
            "330           7  \n",
            "331          14  \n",
            "332         100  \n",
            "333           1  \n",
            "\n",
            "[334 rows x 7 columns]\n"
          ]
        }
      ]
    },
    {
      "cell_type": "code",
      "source": [
        "# Keep data of only indices DS30, DSEX and 30 stocks in DS30 index\n",
        "# List of desired stock codes\n",
        "DS30_stocks = [\n",
        "    'IFIC',\n",
        "    'BATBC',\n",
        "    'BEACONPHAR',\n",
        "    'BEXIMCO',\n",
        "    'ORIONPHARM',\n",
        "    'BRACBANK',\n",
        "    'BSC',\n",
        "    'DELTALIFE',\n",
        "    'BSRMLTD',\n",
        "    'POWERGRID',\n",
        "    'FORTUNE',\n",
        "    'GP',\n",
        "    'BSCCL',\n",
        "    'ROBI',\n",
        "    'SOUTHEASTB',\n",
        "    'ISLAMIBANK',\n",
        "    'BBSCABLES',\n",
        "    'BXPHARMA',\n",
        "    'LHBL',\n",
        "    'CITYBANK',\n",
        "    'MPETROLEUM',\n",
        "    'OLYMPIC',\n",
        "    'GPHISPAT',\n",
        "    'RENATA',\n",
        "    'SEAPEARL',\n",
        "    'TITASGAS',\n",
        "    'SQURPHARMA',\n",
        "    'UPGDCL',\n",
        "    'UNIQUEHRL',\n",
        "    'IDLC','00DS30','00DSEX'\n",
        "]\n",
        "\n",
        "# Iterate over dataframes and filter rows\n",
        "for date, df in DSE_dict_2023.items():\n",
        "    # Keep rows with desired stock codes\n",
        "    df = df[df['Scrip'].isin(DS30_stocks)]\n",
        "    # Update dataframe in dictionary\n",
        "    DSE_dict_2023[date] = df"
      ],
      "metadata": {
        "id": "vz5q6n-SJqXE"
      },
      "execution_count": 44,
      "outputs": []
    },
    {
      "cell_type": "code",
      "source": [
        "# Recheck dataframe to see if non-neccesary stocks have been removed\n",
        "date = '20230101'  # Change this to the date you want\n",
        "if date in DSE_dict_2023:\n",
        "    print(\"Data for\", date)\n",
        "    print(DSE_dict_2023[date])\n",
        "else:\n",
        "    print(\"Data for\", date, \"not found\")"
      ],
      "metadata": {
        "colab": {
          "base_uri": "https://localhost:8080/"
        },
        "id": "n7OeGyL4J0T6",
        "outputId": "2b7b257a-fdc4-46c7-fab8-fd55331a1aa4"
      },
      "execution_count": 45,
      "outputs": [
        {
          "output_type": "stream",
          "name": "stdout",
          "text": [
            "Data for 20230101\n",
            "         Date       Scrip        Open        High         Low       Close  \\\n",
            "0    20230101      00DS30  2195.30158  2205.14579  2192.68497  2193.60229   \n",
            "2    20230101      00DSEX  6206.81389  6222.89281  6194.37735  6195.37281   \n",
            "42   20230101       BATBC   518.70000   518.70000   518.70000   518.70000   \n",
            "45   20230101   BBSCABLES    49.90000    49.90000    49.90000    49.90000   \n",
            "53   20230101  BEACONPHAR   304.50000   304.50000   282.10000   284.00000   \n",
            "57   20230101     BEXIMCO   115.60000   115.60000   115.60000   115.60000   \n",
            "62   20230101    BRACBANK    38.50000    38.50000    38.50000    38.50000   \n",
            "63   20230101         BSC   115.90000   116.50000   112.80000   113.20000   \n",
            "64   20230101       BSCCL   218.90000   218.90000   218.90000   218.90000   \n",
            "65   20230101     BSRMLTD    90.00000    90.00000    90.00000    90.00000   \n",
            "67   20230101    BXPHARMA   146.20000   147.00000   146.20000   146.20000   \n",
            "71   20230101    CITYBANK    21.80000    21.80000    21.80000    21.80000   \n",
            "81   20230101   DELTALIFE   136.50000   136.50000   136.50000   136.50000   \n",
            "115  20230101     FORTUNE    75.70000    75.70000    75.70000    75.70000   \n",
            "126  20230101          GP   286.60000   286.60000   286.60000   286.60000   \n",
            "127  20230101    GPHISPAT    44.80000    44.80000    44.80000    44.80000   \n",
            "138  20230101        IDLC    46.50000    46.50000    46.50000    46.50000   \n",
            "140  20230101        IFIC    11.50000    11.50000    11.50000    11.50000   \n",
            "148  20230101  ISLAMIBANK    33.00000    33.40000    33.00000    33.30000   \n",
            "168  20230101        LHBL    64.80000    64.80000    64.80000    64.80000   \n",
            "196  20230101  MPETROLEUM   198.60000   198.60000   198.60000   198.60000   \n",
            "214  20230101     OLYMPIC   124.70000   124.70000   121.00000   121.20000   \n",
            "217  20230101  ORIONPHARM    82.80000    83.50000    80.60000    80.90000   \n",
            "233  20230101   POWERGRID    52.40000    52.40000    52.40000    52.40000   \n",
            "257  20230101      RENATA  1217.90000  1217.90000  1217.90000  1217.90000   \n",
            "262  20230101        ROBI    30.00000    30.00000    30.00000    30.00000   \n",
            "278  20230101    SEAPEARL   191.00000   195.00000   183.40000   184.00000   \n",
            "297  20230101  SOUTHEASTB    13.80000    13.80000    13.80000    13.80000   \n",
            "301  20230101  SQURPHARMA   209.80000   209.80000   209.80000   209.80000   \n",
            "310  20230101    TITASGAS    40.90000    40.90000    40.90000    40.90000   \n",
            "320  20230101   UNIQUEHRL    56.00000    57.80000    56.00000    56.60000   \n",
            "323  20230101      UPGDCL   233.70000   233.70000   233.70000   233.70000   \n",
            "\n",
            "         Volume  \n",
            "0    1784259000  \n",
            "2    1784259000  \n",
            "42          813  \n",
            "45         4942  \n",
            "53        35311  \n",
            "57          792  \n",
            "62         1953  \n",
            "63       458165  \n",
            "64          181  \n",
            "65          208  \n",
            "67        74794  \n",
            "71        15341  \n",
            "81         2407  \n",
            "115         464  \n",
            "126        1154  \n",
            "127         248  \n",
            "138        3802  \n",
            "140       96019  \n",
            "148      147315  \n",
            "168       32836  \n",
            "196         191  \n",
            "214       61320  \n",
            "217     1087995  \n",
            "233         351  \n",
            "257         250  \n",
            "262         822  \n",
            "278      209286  \n",
            "297        3592  \n",
            "301        6372  \n",
            "310        3570  \n",
            "320      133026  \n",
            "323          76  \n"
          ]
        }
      ]
    },
    {
      "cell_type": "code",
      "source": [
        "# Concatenate all DataFrames in the dictionary\n",
        "dse_df_2023 = pd.concat(DSE_dict_2023.values(), ignore_index=True)\n",
        "\n",
        "# Print the resulting DataFrame\n",
        "print(dse_df_2023)\n",
        "dse_df_2023.to_csv('/content/drive/My Drive/BISS/EMTH0009 - Master Thesis/Data/dse_df_2023.csv', index=False)\n"
      ],
      "metadata": {
        "id": "Wd-eCovQIlSs",
        "colab": {
          "base_uri": "https://localhost:8080/"
        },
        "outputId": "fa6c7257-1793-42b4-f799-3807c3fe2cac"
      },
      "execution_count": 46,
      "outputs": [
        {
          "output_type": "stream",
          "name": "stdout",
          "text": [
            "          Date       Scrip        Open        High         Low       Close  \\\n",
            "0     20230101      00DS30  2195.30158  2205.14579  2192.68497  2193.60229   \n",
            "1     20230101      00DSEX  6206.81389  6222.89281  6194.37735  6195.37281   \n",
            "2     20230101       BATBC   518.70000   518.70000   518.70000   518.70000   \n",
            "3     20230101   BBSCABLES    49.90000    49.90000    49.90000    49.90000   \n",
            "4     20230101  BEACONPHAR   304.50000   304.50000   282.10000   284.00000   \n",
            "...        ...         ...         ...         ...         ...         ...   \n",
            "7220  20231228    SEAPEARL    81.70000    99.70000    81.70000    99.70000   \n",
            "7221  20231228  SOUTHEASTB    13.30000    13.30000    13.30000    13.30000   \n",
            "7222  20231228  SQURPHARMA   210.80000   211.20000   209.90000   210.30000   \n",
            "7223  20231228    TITASGAS    40.90000    40.90000    40.90000    40.90000   \n",
            "7224  20231228   UNIQUEHRL    55.40000    56.90000    55.20000    56.70000   \n",
            "\n",
            "          Volume  \n",
            "0     1784259000  \n",
            "1     1784259000  \n",
            "2            813  \n",
            "3           4942  \n",
            "4          35311  \n",
            "...          ...  \n",
            "7220     3695743  \n",
            "7221        8436  \n",
            "7222      337634  \n",
            "7223         318  \n",
            "7224      260686  \n",
            "\n",
            "[7225 rows x 7 columns]\n"
          ]
        }
      ]
    },
    {
      "cell_type": "code",
      "source": [
        "!pip install xlwt\n",
        "import os\n",
        "import requests\n",
        "import pandas as pd\n",
        "# Make a scraping code to extract stock price data for VN market in 2019\n",
        "def scrape_and_save_to_excel(symbol, start_date, end_date, page_index=1, page_size=365):\n",
        "    # API endpoint URL\n",
        "    api_url = f\"https://s.cafef.vn/Ajax/PageNew/DataHistory/PriceHistory.ashx?Symbol={symbol}&StartDate={start_date}&EndDate={end_date}&PageIndex={page_index}&PageSize={page_size}\"\n",
        "\n",
        "    # Send HTTP GET request to the API\n",
        "    response = requests.get(api_url)\n",
        "\n",
        "    # Check if request was successful\n",
        "    if response.status_code == 200:\n",
        "        # Parse JSON response\n",
        "        data = response.json()\n",
        "\n",
        "        # Extract historical price data\n",
        "        historical_data = data['Data']['Data']\n",
        "\n",
        "        # Create DataFrame\n",
        "        df = pd.DataFrame(historical_data)\n",
        "\n",
        "        # Define target directory\n",
        "        target_directory = '/content/drive/My Drive/BISS/EMTH0009 - Master Thesis/Data/HOSE_data_2019'\n",
        "\n",
        "        # Create target directory if it doesn't exist\n",
        "        os.makedirs(target_directory, exist_ok=True)\n",
        "\n",
        "        # Save DataFrame to Excel file in target directory\n",
        "        # Replace slashes with underscores in the filename\n",
        "        excel_filename = f\"{symbol}_{start_date.replace('/', '_')}_{end_date.replace('/', '_')}.xls\"\n",
        "        excel_filepath = os.path.join(target_directory, excel_filename)\n",
        "        df.to_excel(excel_filepath, index=False)\n",
        "        print(f\"Excel file saved: {excel_filepath}\")\n",
        "    else:\n",
        "        print(f\"Failed to retrieve data. Status code: {response.status_code}\")\n",
        "\n",
        "# Run iteration through all VN30 stocks and 2 indices\n",
        "tickers = [\n",
        "    'CII', 'CTD', 'CTG', 'DHG', 'DPM', 'EIB', 'FPT', 'GAS', 'GMD', 'HDB',\n",
        "    'HPG', 'MBB', 'MSN', 'MWG', 'NVL', 'PNJ', 'REE', 'ROS', 'SAB', 'SBT',\n",
        "    'SSI', 'STB', 'TCB', 'VCB', 'VHM', 'VIC', 'VJC', 'VNM', 'VPB', 'VRE',\n",
        "    'VNINDEX', 'VN30INDEX'\n",
        "]\n",
        "\n",
        "start_date = '01/01/2019'\n",
        "end_date = '12/31/2019'\n",
        "\n",
        "for symbol in tickers:\n",
        "    scrape_and_save_to_excel(symbol, start_date, end_date)\n"
      ],
      "metadata": {
        "colab": {
          "base_uri": "https://localhost:8080/"
        },
        "id": "pq2LrQO6LOJi",
        "outputId": "68c6662e-f064-456a-9c47-579f5d1821a8"
      },
      "execution_count": 47,
      "outputs": [
        {
          "output_type": "stream",
          "name": "stdout",
          "text": [
            "Requirement already satisfied: xlwt in /usr/local/lib/python3.10/dist-packages (1.3.0)\n"
          ]
        },
        {
          "output_type": "stream",
          "name": "stderr",
          "text": [
            "<ipython-input-47-52c0f98bf04d>:34: FutureWarning: As the xlwt package is no longer maintained, the xlwt engine will be removed in a future version of pandas. This is the only engine in pandas that supports writing in the xls format. Install openpyxl and write to an xlsx file instead. You can set the option io.excel.xls.writer to 'xlwt' to silence this warning. While this option is deprecated and will also raise a warning, it can be globally set and the warning suppressed.\n",
            "  df.to_excel(excel_filepath, index=False)\n"
          ]
        },
        {
          "output_type": "stream",
          "name": "stdout",
          "text": [
            "Excel file saved: /content/drive/My Drive/BISS/EMTH0009 - Master Thesis/Data/HOSE_data_2019/CII_01_01_2019_12_31_2019.xls\n"
          ]
        },
        {
          "output_type": "stream",
          "name": "stderr",
          "text": [
            "<ipython-input-47-52c0f98bf04d>:34: FutureWarning: As the xlwt package is no longer maintained, the xlwt engine will be removed in a future version of pandas. This is the only engine in pandas that supports writing in the xls format. Install openpyxl and write to an xlsx file instead. You can set the option io.excel.xls.writer to 'xlwt' to silence this warning. While this option is deprecated and will also raise a warning, it can be globally set and the warning suppressed.\n",
            "  df.to_excel(excel_filepath, index=False)\n"
          ]
        },
        {
          "output_type": "stream",
          "name": "stdout",
          "text": [
            "Excel file saved: /content/drive/My Drive/BISS/EMTH0009 - Master Thesis/Data/HOSE_data_2019/CTD_01_01_2019_12_31_2019.xls\n"
          ]
        },
        {
          "output_type": "stream",
          "name": "stderr",
          "text": [
            "<ipython-input-47-52c0f98bf04d>:34: FutureWarning: As the xlwt package is no longer maintained, the xlwt engine will be removed in a future version of pandas. This is the only engine in pandas that supports writing in the xls format. Install openpyxl and write to an xlsx file instead. You can set the option io.excel.xls.writer to 'xlwt' to silence this warning. While this option is deprecated and will also raise a warning, it can be globally set and the warning suppressed.\n",
            "  df.to_excel(excel_filepath, index=False)\n"
          ]
        },
        {
          "output_type": "stream",
          "name": "stdout",
          "text": [
            "Excel file saved: /content/drive/My Drive/BISS/EMTH0009 - Master Thesis/Data/HOSE_data_2019/CTG_01_01_2019_12_31_2019.xls\n"
          ]
        },
        {
          "output_type": "stream",
          "name": "stderr",
          "text": [
            "<ipython-input-47-52c0f98bf04d>:34: FutureWarning: As the xlwt package is no longer maintained, the xlwt engine will be removed in a future version of pandas. This is the only engine in pandas that supports writing in the xls format. Install openpyxl and write to an xlsx file instead. You can set the option io.excel.xls.writer to 'xlwt' to silence this warning. While this option is deprecated and will also raise a warning, it can be globally set and the warning suppressed.\n",
            "  df.to_excel(excel_filepath, index=False)\n"
          ]
        },
        {
          "output_type": "stream",
          "name": "stdout",
          "text": [
            "Excel file saved: /content/drive/My Drive/BISS/EMTH0009 - Master Thesis/Data/HOSE_data_2019/DHG_01_01_2019_12_31_2019.xls\n"
          ]
        },
        {
          "output_type": "stream",
          "name": "stderr",
          "text": [
            "<ipython-input-47-52c0f98bf04d>:34: FutureWarning: As the xlwt package is no longer maintained, the xlwt engine will be removed in a future version of pandas. This is the only engine in pandas that supports writing in the xls format. Install openpyxl and write to an xlsx file instead. You can set the option io.excel.xls.writer to 'xlwt' to silence this warning. While this option is deprecated and will also raise a warning, it can be globally set and the warning suppressed.\n",
            "  df.to_excel(excel_filepath, index=False)\n"
          ]
        },
        {
          "output_type": "stream",
          "name": "stdout",
          "text": [
            "Excel file saved: /content/drive/My Drive/BISS/EMTH0009 - Master Thesis/Data/HOSE_data_2019/DPM_01_01_2019_12_31_2019.xls\n"
          ]
        },
        {
          "output_type": "stream",
          "name": "stderr",
          "text": [
            "<ipython-input-47-52c0f98bf04d>:34: FutureWarning: As the xlwt package is no longer maintained, the xlwt engine will be removed in a future version of pandas. This is the only engine in pandas that supports writing in the xls format. Install openpyxl and write to an xlsx file instead. You can set the option io.excel.xls.writer to 'xlwt' to silence this warning. While this option is deprecated and will also raise a warning, it can be globally set and the warning suppressed.\n",
            "  df.to_excel(excel_filepath, index=False)\n"
          ]
        },
        {
          "output_type": "stream",
          "name": "stdout",
          "text": [
            "Excel file saved: /content/drive/My Drive/BISS/EMTH0009 - Master Thesis/Data/HOSE_data_2019/EIB_01_01_2019_12_31_2019.xls\n"
          ]
        },
        {
          "output_type": "stream",
          "name": "stderr",
          "text": [
            "<ipython-input-47-52c0f98bf04d>:34: FutureWarning: As the xlwt package is no longer maintained, the xlwt engine will be removed in a future version of pandas. This is the only engine in pandas that supports writing in the xls format. Install openpyxl and write to an xlsx file instead. You can set the option io.excel.xls.writer to 'xlwt' to silence this warning. While this option is deprecated and will also raise a warning, it can be globally set and the warning suppressed.\n",
            "  df.to_excel(excel_filepath, index=False)\n"
          ]
        },
        {
          "output_type": "stream",
          "name": "stdout",
          "text": [
            "Excel file saved: /content/drive/My Drive/BISS/EMTH0009 - Master Thesis/Data/HOSE_data_2019/FPT_01_01_2019_12_31_2019.xls\n"
          ]
        },
        {
          "output_type": "stream",
          "name": "stderr",
          "text": [
            "<ipython-input-47-52c0f98bf04d>:34: FutureWarning: As the xlwt package is no longer maintained, the xlwt engine will be removed in a future version of pandas. This is the only engine in pandas that supports writing in the xls format. Install openpyxl and write to an xlsx file instead. You can set the option io.excel.xls.writer to 'xlwt' to silence this warning. While this option is deprecated and will also raise a warning, it can be globally set and the warning suppressed.\n",
            "  df.to_excel(excel_filepath, index=False)\n"
          ]
        },
        {
          "output_type": "stream",
          "name": "stdout",
          "text": [
            "Excel file saved: /content/drive/My Drive/BISS/EMTH0009 - Master Thesis/Data/HOSE_data_2019/GAS_01_01_2019_12_31_2019.xls\n"
          ]
        },
        {
          "output_type": "stream",
          "name": "stderr",
          "text": [
            "<ipython-input-47-52c0f98bf04d>:34: FutureWarning: As the xlwt package is no longer maintained, the xlwt engine will be removed in a future version of pandas. This is the only engine in pandas that supports writing in the xls format. Install openpyxl and write to an xlsx file instead. You can set the option io.excel.xls.writer to 'xlwt' to silence this warning. While this option is deprecated and will also raise a warning, it can be globally set and the warning suppressed.\n",
            "  df.to_excel(excel_filepath, index=False)\n"
          ]
        },
        {
          "output_type": "stream",
          "name": "stdout",
          "text": [
            "Excel file saved: /content/drive/My Drive/BISS/EMTH0009 - Master Thesis/Data/HOSE_data_2019/GMD_01_01_2019_12_31_2019.xls\n"
          ]
        },
        {
          "output_type": "stream",
          "name": "stderr",
          "text": [
            "<ipython-input-47-52c0f98bf04d>:34: FutureWarning: As the xlwt package is no longer maintained, the xlwt engine will be removed in a future version of pandas. This is the only engine in pandas that supports writing in the xls format. Install openpyxl and write to an xlsx file instead. You can set the option io.excel.xls.writer to 'xlwt' to silence this warning. While this option is deprecated and will also raise a warning, it can be globally set and the warning suppressed.\n",
            "  df.to_excel(excel_filepath, index=False)\n"
          ]
        },
        {
          "output_type": "stream",
          "name": "stdout",
          "text": [
            "Excel file saved: /content/drive/My Drive/BISS/EMTH0009 - Master Thesis/Data/HOSE_data_2019/HDB_01_01_2019_12_31_2019.xls\n"
          ]
        },
        {
          "output_type": "stream",
          "name": "stderr",
          "text": [
            "<ipython-input-47-52c0f98bf04d>:34: FutureWarning: As the xlwt package is no longer maintained, the xlwt engine will be removed in a future version of pandas. This is the only engine in pandas that supports writing in the xls format. Install openpyxl and write to an xlsx file instead. You can set the option io.excel.xls.writer to 'xlwt' to silence this warning. While this option is deprecated and will also raise a warning, it can be globally set and the warning suppressed.\n",
            "  df.to_excel(excel_filepath, index=False)\n"
          ]
        },
        {
          "output_type": "stream",
          "name": "stdout",
          "text": [
            "Excel file saved: /content/drive/My Drive/BISS/EMTH0009 - Master Thesis/Data/HOSE_data_2019/HPG_01_01_2019_12_31_2019.xls\n"
          ]
        },
        {
          "output_type": "stream",
          "name": "stderr",
          "text": [
            "<ipython-input-47-52c0f98bf04d>:34: FutureWarning: As the xlwt package is no longer maintained, the xlwt engine will be removed in a future version of pandas. This is the only engine in pandas that supports writing in the xls format. Install openpyxl and write to an xlsx file instead. You can set the option io.excel.xls.writer to 'xlwt' to silence this warning. While this option is deprecated and will also raise a warning, it can be globally set and the warning suppressed.\n",
            "  df.to_excel(excel_filepath, index=False)\n"
          ]
        },
        {
          "output_type": "stream",
          "name": "stdout",
          "text": [
            "Excel file saved: /content/drive/My Drive/BISS/EMTH0009 - Master Thesis/Data/HOSE_data_2019/MBB_01_01_2019_12_31_2019.xls\n"
          ]
        },
        {
          "output_type": "stream",
          "name": "stderr",
          "text": [
            "<ipython-input-47-52c0f98bf04d>:34: FutureWarning: As the xlwt package is no longer maintained, the xlwt engine will be removed in a future version of pandas. This is the only engine in pandas that supports writing in the xls format. Install openpyxl and write to an xlsx file instead. You can set the option io.excel.xls.writer to 'xlwt' to silence this warning. While this option is deprecated and will also raise a warning, it can be globally set and the warning suppressed.\n",
            "  df.to_excel(excel_filepath, index=False)\n"
          ]
        },
        {
          "output_type": "stream",
          "name": "stdout",
          "text": [
            "Excel file saved: /content/drive/My Drive/BISS/EMTH0009 - Master Thesis/Data/HOSE_data_2019/MSN_01_01_2019_12_31_2019.xls\n"
          ]
        },
        {
          "output_type": "stream",
          "name": "stderr",
          "text": [
            "<ipython-input-47-52c0f98bf04d>:34: FutureWarning: As the xlwt package is no longer maintained, the xlwt engine will be removed in a future version of pandas. This is the only engine in pandas that supports writing in the xls format. Install openpyxl and write to an xlsx file instead. You can set the option io.excel.xls.writer to 'xlwt' to silence this warning. While this option is deprecated and will also raise a warning, it can be globally set and the warning suppressed.\n",
            "  df.to_excel(excel_filepath, index=False)\n"
          ]
        },
        {
          "output_type": "stream",
          "name": "stdout",
          "text": [
            "Excel file saved: /content/drive/My Drive/BISS/EMTH0009 - Master Thesis/Data/HOSE_data_2019/MWG_01_01_2019_12_31_2019.xls\n"
          ]
        },
        {
          "output_type": "stream",
          "name": "stderr",
          "text": [
            "<ipython-input-47-52c0f98bf04d>:34: FutureWarning: As the xlwt package is no longer maintained, the xlwt engine will be removed in a future version of pandas. This is the only engine in pandas that supports writing in the xls format. Install openpyxl and write to an xlsx file instead. You can set the option io.excel.xls.writer to 'xlwt' to silence this warning. While this option is deprecated and will also raise a warning, it can be globally set and the warning suppressed.\n",
            "  df.to_excel(excel_filepath, index=False)\n"
          ]
        },
        {
          "output_type": "stream",
          "name": "stdout",
          "text": [
            "Excel file saved: /content/drive/My Drive/BISS/EMTH0009 - Master Thesis/Data/HOSE_data_2019/NVL_01_01_2019_12_31_2019.xls\n"
          ]
        },
        {
          "output_type": "stream",
          "name": "stderr",
          "text": [
            "<ipython-input-47-52c0f98bf04d>:34: FutureWarning: As the xlwt package is no longer maintained, the xlwt engine will be removed in a future version of pandas. This is the only engine in pandas that supports writing in the xls format. Install openpyxl and write to an xlsx file instead. You can set the option io.excel.xls.writer to 'xlwt' to silence this warning. While this option is deprecated and will also raise a warning, it can be globally set and the warning suppressed.\n",
            "  df.to_excel(excel_filepath, index=False)\n"
          ]
        },
        {
          "output_type": "stream",
          "name": "stdout",
          "text": [
            "Excel file saved: /content/drive/My Drive/BISS/EMTH0009 - Master Thesis/Data/HOSE_data_2019/PNJ_01_01_2019_12_31_2019.xls\n"
          ]
        },
        {
          "output_type": "stream",
          "name": "stderr",
          "text": [
            "<ipython-input-47-52c0f98bf04d>:34: FutureWarning: As the xlwt package is no longer maintained, the xlwt engine will be removed in a future version of pandas. This is the only engine in pandas that supports writing in the xls format. Install openpyxl and write to an xlsx file instead. You can set the option io.excel.xls.writer to 'xlwt' to silence this warning. While this option is deprecated and will also raise a warning, it can be globally set and the warning suppressed.\n",
            "  df.to_excel(excel_filepath, index=False)\n"
          ]
        },
        {
          "output_type": "stream",
          "name": "stdout",
          "text": [
            "Excel file saved: /content/drive/My Drive/BISS/EMTH0009 - Master Thesis/Data/HOSE_data_2019/REE_01_01_2019_12_31_2019.xls\n"
          ]
        },
        {
          "output_type": "stream",
          "name": "stderr",
          "text": [
            "<ipython-input-47-52c0f98bf04d>:34: FutureWarning: As the xlwt package is no longer maintained, the xlwt engine will be removed in a future version of pandas. This is the only engine in pandas that supports writing in the xls format. Install openpyxl and write to an xlsx file instead. You can set the option io.excel.xls.writer to 'xlwt' to silence this warning. While this option is deprecated and will also raise a warning, it can be globally set and the warning suppressed.\n",
            "  df.to_excel(excel_filepath, index=False)\n"
          ]
        },
        {
          "output_type": "stream",
          "name": "stdout",
          "text": [
            "Excel file saved: /content/drive/My Drive/BISS/EMTH0009 - Master Thesis/Data/HOSE_data_2019/ROS_01_01_2019_12_31_2019.xls\n"
          ]
        },
        {
          "output_type": "stream",
          "name": "stderr",
          "text": [
            "<ipython-input-47-52c0f98bf04d>:34: FutureWarning: As the xlwt package is no longer maintained, the xlwt engine will be removed in a future version of pandas. This is the only engine in pandas that supports writing in the xls format. Install openpyxl and write to an xlsx file instead. You can set the option io.excel.xls.writer to 'xlwt' to silence this warning. While this option is deprecated and will also raise a warning, it can be globally set and the warning suppressed.\n",
            "  df.to_excel(excel_filepath, index=False)\n"
          ]
        },
        {
          "output_type": "stream",
          "name": "stdout",
          "text": [
            "Excel file saved: /content/drive/My Drive/BISS/EMTH0009 - Master Thesis/Data/HOSE_data_2019/SAB_01_01_2019_12_31_2019.xls\n"
          ]
        },
        {
          "output_type": "stream",
          "name": "stderr",
          "text": [
            "<ipython-input-47-52c0f98bf04d>:34: FutureWarning: As the xlwt package is no longer maintained, the xlwt engine will be removed in a future version of pandas. This is the only engine in pandas that supports writing in the xls format. Install openpyxl and write to an xlsx file instead. You can set the option io.excel.xls.writer to 'xlwt' to silence this warning. While this option is deprecated and will also raise a warning, it can be globally set and the warning suppressed.\n",
            "  df.to_excel(excel_filepath, index=False)\n"
          ]
        },
        {
          "output_type": "stream",
          "name": "stdout",
          "text": [
            "Excel file saved: /content/drive/My Drive/BISS/EMTH0009 - Master Thesis/Data/HOSE_data_2019/SBT_01_01_2019_12_31_2019.xls\n"
          ]
        },
        {
          "output_type": "stream",
          "name": "stderr",
          "text": [
            "<ipython-input-47-52c0f98bf04d>:34: FutureWarning: As the xlwt package is no longer maintained, the xlwt engine will be removed in a future version of pandas. This is the only engine in pandas that supports writing in the xls format. Install openpyxl and write to an xlsx file instead. You can set the option io.excel.xls.writer to 'xlwt' to silence this warning. While this option is deprecated and will also raise a warning, it can be globally set and the warning suppressed.\n",
            "  df.to_excel(excel_filepath, index=False)\n"
          ]
        },
        {
          "output_type": "stream",
          "name": "stdout",
          "text": [
            "Excel file saved: /content/drive/My Drive/BISS/EMTH0009 - Master Thesis/Data/HOSE_data_2019/SSI_01_01_2019_12_31_2019.xls\n"
          ]
        },
        {
          "output_type": "stream",
          "name": "stderr",
          "text": [
            "<ipython-input-47-52c0f98bf04d>:34: FutureWarning: As the xlwt package is no longer maintained, the xlwt engine will be removed in a future version of pandas. This is the only engine in pandas that supports writing in the xls format. Install openpyxl and write to an xlsx file instead. You can set the option io.excel.xls.writer to 'xlwt' to silence this warning. While this option is deprecated and will also raise a warning, it can be globally set and the warning suppressed.\n",
            "  df.to_excel(excel_filepath, index=False)\n"
          ]
        },
        {
          "output_type": "stream",
          "name": "stdout",
          "text": [
            "Excel file saved: /content/drive/My Drive/BISS/EMTH0009 - Master Thesis/Data/HOSE_data_2019/STB_01_01_2019_12_31_2019.xls\n"
          ]
        },
        {
          "output_type": "stream",
          "name": "stderr",
          "text": [
            "<ipython-input-47-52c0f98bf04d>:34: FutureWarning: As the xlwt package is no longer maintained, the xlwt engine will be removed in a future version of pandas. This is the only engine in pandas that supports writing in the xls format. Install openpyxl and write to an xlsx file instead. You can set the option io.excel.xls.writer to 'xlwt' to silence this warning. While this option is deprecated and will also raise a warning, it can be globally set and the warning suppressed.\n",
            "  df.to_excel(excel_filepath, index=False)\n"
          ]
        },
        {
          "output_type": "stream",
          "name": "stdout",
          "text": [
            "Excel file saved: /content/drive/My Drive/BISS/EMTH0009 - Master Thesis/Data/HOSE_data_2019/TCB_01_01_2019_12_31_2019.xls\n"
          ]
        },
        {
          "output_type": "stream",
          "name": "stderr",
          "text": [
            "<ipython-input-47-52c0f98bf04d>:34: FutureWarning: As the xlwt package is no longer maintained, the xlwt engine will be removed in a future version of pandas. This is the only engine in pandas that supports writing in the xls format. Install openpyxl and write to an xlsx file instead. You can set the option io.excel.xls.writer to 'xlwt' to silence this warning. While this option is deprecated and will also raise a warning, it can be globally set and the warning suppressed.\n",
            "  df.to_excel(excel_filepath, index=False)\n"
          ]
        },
        {
          "output_type": "stream",
          "name": "stdout",
          "text": [
            "Excel file saved: /content/drive/My Drive/BISS/EMTH0009 - Master Thesis/Data/HOSE_data_2019/VCB_01_01_2019_12_31_2019.xls\n"
          ]
        },
        {
          "output_type": "stream",
          "name": "stderr",
          "text": [
            "<ipython-input-47-52c0f98bf04d>:34: FutureWarning: As the xlwt package is no longer maintained, the xlwt engine will be removed in a future version of pandas. This is the only engine in pandas that supports writing in the xls format. Install openpyxl and write to an xlsx file instead. You can set the option io.excel.xls.writer to 'xlwt' to silence this warning. While this option is deprecated and will also raise a warning, it can be globally set and the warning suppressed.\n",
            "  df.to_excel(excel_filepath, index=False)\n"
          ]
        },
        {
          "output_type": "stream",
          "name": "stdout",
          "text": [
            "Excel file saved: /content/drive/My Drive/BISS/EMTH0009 - Master Thesis/Data/HOSE_data_2019/VHM_01_01_2019_12_31_2019.xls\n"
          ]
        },
        {
          "output_type": "stream",
          "name": "stderr",
          "text": [
            "<ipython-input-47-52c0f98bf04d>:34: FutureWarning: As the xlwt package is no longer maintained, the xlwt engine will be removed in a future version of pandas. This is the only engine in pandas that supports writing in the xls format. Install openpyxl and write to an xlsx file instead. You can set the option io.excel.xls.writer to 'xlwt' to silence this warning. While this option is deprecated and will also raise a warning, it can be globally set and the warning suppressed.\n",
            "  df.to_excel(excel_filepath, index=False)\n"
          ]
        },
        {
          "output_type": "stream",
          "name": "stdout",
          "text": [
            "Excel file saved: /content/drive/My Drive/BISS/EMTH0009 - Master Thesis/Data/HOSE_data_2019/VIC_01_01_2019_12_31_2019.xls\n"
          ]
        },
        {
          "output_type": "stream",
          "name": "stderr",
          "text": [
            "<ipython-input-47-52c0f98bf04d>:34: FutureWarning: As the xlwt package is no longer maintained, the xlwt engine will be removed in a future version of pandas. This is the only engine in pandas that supports writing in the xls format. Install openpyxl and write to an xlsx file instead. You can set the option io.excel.xls.writer to 'xlwt' to silence this warning. While this option is deprecated and will also raise a warning, it can be globally set and the warning suppressed.\n",
            "  df.to_excel(excel_filepath, index=False)\n"
          ]
        },
        {
          "output_type": "stream",
          "name": "stdout",
          "text": [
            "Excel file saved: /content/drive/My Drive/BISS/EMTH0009 - Master Thesis/Data/HOSE_data_2019/VJC_01_01_2019_12_31_2019.xls\n"
          ]
        },
        {
          "output_type": "stream",
          "name": "stderr",
          "text": [
            "<ipython-input-47-52c0f98bf04d>:34: FutureWarning: As the xlwt package is no longer maintained, the xlwt engine will be removed in a future version of pandas. This is the only engine in pandas that supports writing in the xls format. Install openpyxl and write to an xlsx file instead. You can set the option io.excel.xls.writer to 'xlwt' to silence this warning. While this option is deprecated and will also raise a warning, it can be globally set and the warning suppressed.\n",
            "  df.to_excel(excel_filepath, index=False)\n"
          ]
        },
        {
          "output_type": "stream",
          "name": "stdout",
          "text": [
            "Excel file saved: /content/drive/My Drive/BISS/EMTH0009 - Master Thesis/Data/HOSE_data_2019/VNM_01_01_2019_12_31_2019.xls\n"
          ]
        },
        {
          "output_type": "stream",
          "name": "stderr",
          "text": [
            "<ipython-input-47-52c0f98bf04d>:34: FutureWarning: As the xlwt package is no longer maintained, the xlwt engine will be removed in a future version of pandas. This is the only engine in pandas that supports writing in the xls format. Install openpyxl and write to an xlsx file instead. You can set the option io.excel.xls.writer to 'xlwt' to silence this warning. While this option is deprecated and will also raise a warning, it can be globally set and the warning suppressed.\n",
            "  df.to_excel(excel_filepath, index=False)\n"
          ]
        },
        {
          "output_type": "stream",
          "name": "stdout",
          "text": [
            "Excel file saved: /content/drive/My Drive/BISS/EMTH0009 - Master Thesis/Data/HOSE_data_2019/VPB_01_01_2019_12_31_2019.xls\n"
          ]
        },
        {
          "output_type": "stream",
          "name": "stderr",
          "text": [
            "<ipython-input-47-52c0f98bf04d>:34: FutureWarning: As the xlwt package is no longer maintained, the xlwt engine will be removed in a future version of pandas. This is the only engine in pandas that supports writing in the xls format. Install openpyxl and write to an xlsx file instead. You can set the option io.excel.xls.writer to 'xlwt' to silence this warning. While this option is deprecated and will also raise a warning, it can be globally set and the warning suppressed.\n",
            "  df.to_excel(excel_filepath, index=False)\n"
          ]
        },
        {
          "output_type": "stream",
          "name": "stdout",
          "text": [
            "Excel file saved: /content/drive/My Drive/BISS/EMTH0009 - Master Thesis/Data/HOSE_data_2019/VRE_01_01_2019_12_31_2019.xls\n"
          ]
        },
        {
          "output_type": "stream",
          "name": "stderr",
          "text": [
            "<ipython-input-47-52c0f98bf04d>:34: FutureWarning: As the xlwt package is no longer maintained, the xlwt engine will be removed in a future version of pandas. This is the only engine in pandas that supports writing in the xls format. Install openpyxl and write to an xlsx file instead. You can set the option io.excel.xls.writer to 'xlwt' to silence this warning. While this option is deprecated and will also raise a warning, it can be globally set and the warning suppressed.\n",
            "  df.to_excel(excel_filepath, index=False)\n"
          ]
        },
        {
          "output_type": "stream",
          "name": "stdout",
          "text": [
            "Excel file saved: /content/drive/My Drive/BISS/EMTH0009 - Master Thesis/Data/HOSE_data_2019/VNINDEX_01_01_2019_12_31_2019.xls\n",
            "Excel file saved: /content/drive/My Drive/BISS/EMTH0009 - Master Thesis/Data/HOSE_data_2019/VN30INDEX_01_01_2019_12_31_2019.xls\n"
          ]
        },
        {
          "output_type": "stream",
          "name": "stderr",
          "text": [
            "<ipython-input-47-52c0f98bf04d>:34: FutureWarning: As the xlwt package is no longer maintained, the xlwt engine will be removed in a future version of pandas. This is the only engine in pandas that supports writing in the xls format. Install openpyxl and write to an xlsx file instead. You can set the option io.excel.xls.writer to 'xlwt' to silence this warning. While this option is deprecated and will also raise a warning, it can be globally set and the warning suppressed.\n",
            "  df.to_excel(excel_filepath, index=False)\n"
          ]
        }
      ]
    },
    {
      "cell_type": "code",
      "source": [
        "# Make a scraping code to extract stock price data for VN market in 2023\n",
        "def scrape_and_save_to_excel(symbol, start_date, end_date, page_index=1, page_size=365):\n",
        "    # API endpoint URL\n",
        "    api_url = f\"https://s.cafef.vn/Ajax/PageNew/DataHistory/PriceHistory.ashx?Symbol={symbol}&StartDate={start_date}&EndDate={end_date}&PageIndex={page_index}&PageSize={page_size}\"\n",
        "\n",
        "    # Send HTTP GET request to the API\n",
        "    response = requests.get(api_url)\n",
        "\n",
        "    # Check if request was successful\n",
        "    if response.status_code == 200:\n",
        "        # Parse JSON response\n",
        "        data = response.json()\n",
        "\n",
        "        # Extract historical price data\n",
        "        historical_data = data['Data']['Data']\n",
        "\n",
        "        # Create DataFrame\n",
        "        df = pd.DataFrame(historical_data)\n",
        "\n",
        "        # Define target directory\n",
        "        target_directory = '/content/drive/My Drive/BISS/EMTH0009 - Master Thesis/Data/HOSE_data_2023'\n",
        "\n",
        "        # Create target directory if it doesn't exist\n",
        "        os.makedirs(target_directory, exist_ok=True)\n",
        "\n",
        "        # Save DataFrame to Excel file in target directory\n",
        "        # Replace slashes with underscores in the filename\n",
        "        excel_filename = f\"{symbol}_{start_date.replace('/', '_')}_{end_date.replace('/', '_')}.xls\"\n",
        "        excel_filepath = os.path.join(target_directory, excel_filename)\n",
        "        df.to_excel(excel_filepath, index=False)\n",
        "        print(f\"Excel file saved: {excel_filepath}\")\n",
        "    else:\n",
        "        print(f\"Failed to retrieve data. Status code: {response.status_code}\")\n",
        "\n",
        "# Run iteration through all VN30 stocks and 2 indices\n",
        "tickers = [\n",
        "    'ACB', 'BCM', 'BID', 'BVH', 'CTG', 'FPT', 'GAS', 'GVR', 'HDB', 'HPG',\n",
        "    'MBB', 'MSN', 'MWG', 'NVL', 'PDR', 'PLX', 'POW', 'SAB', 'SSI', 'STB',\n",
        "    'TCB', 'TPB', 'VCB', 'VHM', 'VIB', 'VIC', 'VJC', 'VNM', 'VPB', 'VRE',\n",
        "    'VNINDEX', 'VN30INDEX'\n",
        "]\n",
        "\n",
        "start_date = '01/01/2023'\n",
        "end_date = '12/31/2023'\n",
        "\n",
        "for symbol in tickers:\n",
        "    scrape_and_save_to_excel(symbol, start_date, end_date)"
      ],
      "metadata": {
        "colab": {
          "base_uri": "https://localhost:8080/"
        },
        "id": "Q9PZetRaF53G",
        "outputId": "5ce40bb1-353b-45e9-d2f4-5280191e1be6"
      },
      "execution_count": 48,
      "outputs": [
        {
          "output_type": "stream",
          "name": "stderr",
          "text": [
            "<ipython-input-48-22a4dcf6f3bf>:30: FutureWarning: As the xlwt package is no longer maintained, the xlwt engine will be removed in a future version of pandas. This is the only engine in pandas that supports writing in the xls format. Install openpyxl and write to an xlsx file instead. You can set the option io.excel.xls.writer to 'xlwt' to silence this warning. While this option is deprecated and will also raise a warning, it can be globally set and the warning suppressed.\n",
            "  df.to_excel(excel_filepath, index=False)\n"
          ]
        },
        {
          "output_type": "stream",
          "name": "stdout",
          "text": [
            "Excel file saved: /content/drive/My Drive/BISS/EMTH0009 - Master Thesis/Data/HOSE_data_2023/ACB_01_01_2023_12_31_2023.xls\n"
          ]
        },
        {
          "output_type": "stream",
          "name": "stderr",
          "text": [
            "<ipython-input-48-22a4dcf6f3bf>:30: FutureWarning: As the xlwt package is no longer maintained, the xlwt engine will be removed in a future version of pandas. This is the only engine in pandas that supports writing in the xls format. Install openpyxl and write to an xlsx file instead. You can set the option io.excel.xls.writer to 'xlwt' to silence this warning. While this option is deprecated and will also raise a warning, it can be globally set and the warning suppressed.\n",
            "  df.to_excel(excel_filepath, index=False)\n"
          ]
        },
        {
          "output_type": "stream",
          "name": "stdout",
          "text": [
            "Excel file saved: /content/drive/My Drive/BISS/EMTH0009 - Master Thesis/Data/HOSE_data_2023/BCM_01_01_2023_12_31_2023.xls\n"
          ]
        },
        {
          "output_type": "stream",
          "name": "stderr",
          "text": [
            "<ipython-input-48-22a4dcf6f3bf>:30: FutureWarning: As the xlwt package is no longer maintained, the xlwt engine will be removed in a future version of pandas. This is the only engine in pandas that supports writing in the xls format. Install openpyxl and write to an xlsx file instead. You can set the option io.excel.xls.writer to 'xlwt' to silence this warning. While this option is deprecated and will also raise a warning, it can be globally set and the warning suppressed.\n",
            "  df.to_excel(excel_filepath, index=False)\n"
          ]
        },
        {
          "output_type": "stream",
          "name": "stdout",
          "text": [
            "Excel file saved: /content/drive/My Drive/BISS/EMTH0009 - Master Thesis/Data/HOSE_data_2023/BID_01_01_2023_12_31_2023.xls\n"
          ]
        },
        {
          "output_type": "stream",
          "name": "stderr",
          "text": [
            "<ipython-input-48-22a4dcf6f3bf>:30: FutureWarning: As the xlwt package is no longer maintained, the xlwt engine will be removed in a future version of pandas. This is the only engine in pandas that supports writing in the xls format. Install openpyxl and write to an xlsx file instead. You can set the option io.excel.xls.writer to 'xlwt' to silence this warning. While this option is deprecated and will also raise a warning, it can be globally set and the warning suppressed.\n",
            "  df.to_excel(excel_filepath, index=False)\n"
          ]
        },
        {
          "output_type": "stream",
          "name": "stdout",
          "text": [
            "Excel file saved: /content/drive/My Drive/BISS/EMTH0009 - Master Thesis/Data/HOSE_data_2023/BVH_01_01_2023_12_31_2023.xls\n"
          ]
        },
        {
          "output_type": "stream",
          "name": "stderr",
          "text": [
            "<ipython-input-48-22a4dcf6f3bf>:30: FutureWarning: As the xlwt package is no longer maintained, the xlwt engine will be removed in a future version of pandas. This is the only engine in pandas that supports writing in the xls format. Install openpyxl and write to an xlsx file instead. You can set the option io.excel.xls.writer to 'xlwt' to silence this warning. While this option is deprecated and will also raise a warning, it can be globally set and the warning suppressed.\n",
            "  df.to_excel(excel_filepath, index=False)\n"
          ]
        },
        {
          "output_type": "stream",
          "name": "stdout",
          "text": [
            "Excel file saved: /content/drive/My Drive/BISS/EMTH0009 - Master Thesis/Data/HOSE_data_2023/CTG_01_01_2023_12_31_2023.xls\n"
          ]
        },
        {
          "output_type": "stream",
          "name": "stderr",
          "text": [
            "<ipython-input-48-22a4dcf6f3bf>:30: FutureWarning: As the xlwt package is no longer maintained, the xlwt engine will be removed in a future version of pandas. This is the only engine in pandas that supports writing in the xls format. Install openpyxl and write to an xlsx file instead. You can set the option io.excel.xls.writer to 'xlwt' to silence this warning. While this option is deprecated and will also raise a warning, it can be globally set and the warning suppressed.\n",
            "  df.to_excel(excel_filepath, index=False)\n"
          ]
        },
        {
          "output_type": "stream",
          "name": "stdout",
          "text": [
            "Excel file saved: /content/drive/My Drive/BISS/EMTH0009 - Master Thesis/Data/HOSE_data_2023/FPT_01_01_2023_12_31_2023.xls\n"
          ]
        },
        {
          "output_type": "stream",
          "name": "stderr",
          "text": [
            "<ipython-input-48-22a4dcf6f3bf>:30: FutureWarning: As the xlwt package is no longer maintained, the xlwt engine will be removed in a future version of pandas. This is the only engine in pandas that supports writing in the xls format. Install openpyxl and write to an xlsx file instead. You can set the option io.excel.xls.writer to 'xlwt' to silence this warning. While this option is deprecated and will also raise a warning, it can be globally set and the warning suppressed.\n",
            "  df.to_excel(excel_filepath, index=False)\n"
          ]
        },
        {
          "output_type": "stream",
          "name": "stdout",
          "text": [
            "Excel file saved: /content/drive/My Drive/BISS/EMTH0009 - Master Thesis/Data/HOSE_data_2023/GAS_01_01_2023_12_31_2023.xls\n"
          ]
        },
        {
          "output_type": "stream",
          "name": "stderr",
          "text": [
            "<ipython-input-48-22a4dcf6f3bf>:30: FutureWarning: As the xlwt package is no longer maintained, the xlwt engine will be removed in a future version of pandas. This is the only engine in pandas that supports writing in the xls format. Install openpyxl and write to an xlsx file instead. You can set the option io.excel.xls.writer to 'xlwt' to silence this warning. While this option is deprecated and will also raise a warning, it can be globally set and the warning suppressed.\n",
            "  df.to_excel(excel_filepath, index=False)\n"
          ]
        },
        {
          "output_type": "stream",
          "name": "stdout",
          "text": [
            "Excel file saved: /content/drive/My Drive/BISS/EMTH0009 - Master Thesis/Data/HOSE_data_2023/GVR_01_01_2023_12_31_2023.xls\n"
          ]
        },
        {
          "output_type": "stream",
          "name": "stderr",
          "text": [
            "<ipython-input-48-22a4dcf6f3bf>:30: FutureWarning: As the xlwt package is no longer maintained, the xlwt engine will be removed in a future version of pandas. This is the only engine in pandas that supports writing in the xls format. Install openpyxl and write to an xlsx file instead. You can set the option io.excel.xls.writer to 'xlwt' to silence this warning. While this option is deprecated and will also raise a warning, it can be globally set and the warning suppressed.\n",
            "  df.to_excel(excel_filepath, index=False)\n"
          ]
        },
        {
          "output_type": "stream",
          "name": "stdout",
          "text": [
            "Excel file saved: /content/drive/My Drive/BISS/EMTH0009 - Master Thesis/Data/HOSE_data_2023/HDB_01_01_2023_12_31_2023.xls\n"
          ]
        },
        {
          "output_type": "stream",
          "name": "stderr",
          "text": [
            "<ipython-input-48-22a4dcf6f3bf>:30: FutureWarning: As the xlwt package is no longer maintained, the xlwt engine will be removed in a future version of pandas. This is the only engine in pandas that supports writing in the xls format. Install openpyxl and write to an xlsx file instead. You can set the option io.excel.xls.writer to 'xlwt' to silence this warning. While this option is deprecated and will also raise a warning, it can be globally set and the warning suppressed.\n",
            "  df.to_excel(excel_filepath, index=False)\n"
          ]
        },
        {
          "output_type": "stream",
          "name": "stdout",
          "text": [
            "Excel file saved: /content/drive/My Drive/BISS/EMTH0009 - Master Thesis/Data/HOSE_data_2023/HPG_01_01_2023_12_31_2023.xls\n"
          ]
        },
        {
          "output_type": "stream",
          "name": "stderr",
          "text": [
            "<ipython-input-48-22a4dcf6f3bf>:30: FutureWarning: As the xlwt package is no longer maintained, the xlwt engine will be removed in a future version of pandas. This is the only engine in pandas that supports writing in the xls format. Install openpyxl and write to an xlsx file instead. You can set the option io.excel.xls.writer to 'xlwt' to silence this warning. While this option is deprecated and will also raise a warning, it can be globally set and the warning suppressed.\n",
            "  df.to_excel(excel_filepath, index=False)\n"
          ]
        },
        {
          "output_type": "stream",
          "name": "stdout",
          "text": [
            "Excel file saved: /content/drive/My Drive/BISS/EMTH0009 - Master Thesis/Data/HOSE_data_2023/MBB_01_01_2023_12_31_2023.xls\n"
          ]
        },
        {
          "output_type": "stream",
          "name": "stderr",
          "text": [
            "<ipython-input-48-22a4dcf6f3bf>:30: FutureWarning: As the xlwt package is no longer maintained, the xlwt engine will be removed in a future version of pandas. This is the only engine in pandas that supports writing in the xls format. Install openpyxl and write to an xlsx file instead. You can set the option io.excel.xls.writer to 'xlwt' to silence this warning. While this option is deprecated and will also raise a warning, it can be globally set and the warning suppressed.\n",
            "  df.to_excel(excel_filepath, index=False)\n"
          ]
        },
        {
          "output_type": "stream",
          "name": "stdout",
          "text": [
            "Excel file saved: /content/drive/My Drive/BISS/EMTH0009 - Master Thesis/Data/HOSE_data_2023/MSN_01_01_2023_12_31_2023.xls\n"
          ]
        },
        {
          "output_type": "stream",
          "name": "stderr",
          "text": [
            "<ipython-input-48-22a4dcf6f3bf>:30: FutureWarning: As the xlwt package is no longer maintained, the xlwt engine will be removed in a future version of pandas. This is the only engine in pandas that supports writing in the xls format. Install openpyxl and write to an xlsx file instead. You can set the option io.excel.xls.writer to 'xlwt' to silence this warning. While this option is deprecated and will also raise a warning, it can be globally set and the warning suppressed.\n",
            "  df.to_excel(excel_filepath, index=False)\n"
          ]
        },
        {
          "output_type": "stream",
          "name": "stdout",
          "text": [
            "Excel file saved: /content/drive/My Drive/BISS/EMTH0009 - Master Thesis/Data/HOSE_data_2023/MWG_01_01_2023_12_31_2023.xls\n"
          ]
        },
        {
          "output_type": "stream",
          "name": "stderr",
          "text": [
            "<ipython-input-48-22a4dcf6f3bf>:30: FutureWarning: As the xlwt package is no longer maintained, the xlwt engine will be removed in a future version of pandas. This is the only engine in pandas that supports writing in the xls format. Install openpyxl and write to an xlsx file instead. You can set the option io.excel.xls.writer to 'xlwt' to silence this warning. While this option is deprecated and will also raise a warning, it can be globally set and the warning suppressed.\n",
            "  df.to_excel(excel_filepath, index=False)\n"
          ]
        },
        {
          "output_type": "stream",
          "name": "stdout",
          "text": [
            "Excel file saved: /content/drive/My Drive/BISS/EMTH0009 - Master Thesis/Data/HOSE_data_2023/NVL_01_01_2023_12_31_2023.xls\n"
          ]
        },
        {
          "output_type": "stream",
          "name": "stderr",
          "text": [
            "<ipython-input-48-22a4dcf6f3bf>:30: FutureWarning: As the xlwt package is no longer maintained, the xlwt engine will be removed in a future version of pandas. This is the only engine in pandas that supports writing in the xls format. Install openpyxl and write to an xlsx file instead. You can set the option io.excel.xls.writer to 'xlwt' to silence this warning. While this option is deprecated and will also raise a warning, it can be globally set and the warning suppressed.\n",
            "  df.to_excel(excel_filepath, index=False)\n"
          ]
        },
        {
          "output_type": "stream",
          "name": "stdout",
          "text": [
            "Excel file saved: /content/drive/My Drive/BISS/EMTH0009 - Master Thesis/Data/HOSE_data_2023/PDR_01_01_2023_12_31_2023.xls\n"
          ]
        },
        {
          "output_type": "stream",
          "name": "stderr",
          "text": [
            "<ipython-input-48-22a4dcf6f3bf>:30: FutureWarning: As the xlwt package is no longer maintained, the xlwt engine will be removed in a future version of pandas. This is the only engine in pandas that supports writing in the xls format. Install openpyxl and write to an xlsx file instead. You can set the option io.excel.xls.writer to 'xlwt' to silence this warning. While this option is deprecated and will also raise a warning, it can be globally set and the warning suppressed.\n",
            "  df.to_excel(excel_filepath, index=False)\n"
          ]
        },
        {
          "output_type": "stream",
          "name": "stdout",
          "text": [
            "Excel file saved: /content/drive/My Drive/BISS/EMTH0009 - Master Thesis/Data/HOSE_data_2023/PLX_01_01_2023_12_31_2023.xls\n"
          ]
        },
        {
          "output_type": "stream",
          "name": "stderr",
          "text": [
            "<ipython-input-48-22a4dcf6f3bf>:30: FutureWarning: As the xlwt package is no longer maintained, the xlwt engine will be removed in a future version of pandas. This is the only engine in pandas that supports writing in the xls format. Install openpyxl and write to an xlsx file instead. You can set the option io.excel.xls.writer to 'xlwt' to silence this warning. While this option is deprecated and will also raise a warning, it can be globally set and the warning suppressed.\n",
            "  df.to_excel(excel_filepath, index=False)\n"
          ]
        },
        {
          "output_type": "stream",
          "name": "stdout",
          "text": [
            "Excel file saved: /content/drive/My Drive/BISS/EMTH0009 - Master Thesis/Data/HOSE_data_2023/POW_01_01_2023_12_31_2023.xls\n"
          ]
        },
        {
          "output_type": "stream",
          "name": "stderr",
          "text": [
            "<ipython-input-48-22a4dcf6f3bf>:30: FutureWarning: As the xlwt package is no longer maintained, the xlwt engine will be removed in a future version of pandas. This is the only engine in pandas that supports writing in the xls format. Install openpyxl and write to an xlsx file instead. You can set the option io.excel.xls.writer to 'xlwt' to silence this warning. While this option is deprecated and will also raise a warning, it can be globally set and the warning suppressed.\n",
            "  df.to_excel(excel_filepath, index=False)\n"
          ]
        },
        {
          "output_type": "stream",
          "name": "stdout",
          "text": [
            "Excel file saved: /content/drive/My Drive/BISS/EMTH0009 - Master Thesis/Data/HOSE_data_2023/SAB_01_01_2023_12_31_2023.xls\n"
          ]
        },
        {
          "output_type": "stream",
          "name": "stderr",
          "text": [
            "<ipython-input-48-22a4dcf6f3bf>:30: FutureWarning: As the xlwt package is no longer maintained, the xlwt engine will be removed in a future version of pandas. This is the only engine in pandas that supports writing in the xls format. Install openpyxl and write to an xlsx file instead. You can set the option io.excel.xls.writer to 'xlwt' to silence this warning. While this option is deprecated and will also raise a warning, it can be globally set and the warning suppressed.\n",
            "  df.to_excel(excel_filepath, index=False)\n"
          ]
        },
        {
          "output_type": "stream",
          "name": "stdout",
          "text": [
            "Excel file saved: /content/drive/My Drive/BISS/EMTH0009 - Master Thesis/Data/HOSE_data_2023/SSI_01_01_2023_12_31_2023.xls\n"
          ]
        },
        {
          "output_type": "stream",
          "name": "stderr",
          "text": [
            "<ipython-input-48-22a4dcf6f3bf>:30: FutureWarning: As the xlwt package is no longer maintained, the xlwt engine will be removed in a future version of pandas. This is the only engine in pandas that supports writing in the xls format. Install openpyxl and write to an xlsx file instead. You can set the option io.excel.xls.writer to 'xlwt' to silence this warning. While this option is deprecated and will also raise a warning, it can be globally set and the warning suppressed.\n",
            "  df.to_excel(excel_filepath, index=False)\n"
          ]
        },
        {
          "output_type": "stream",
          "name": "stdout",
          "text": [
            "Excel file saved: /content/drive/My Drive/BISS/EMTH0009 - Master Thesis/Data/HOSE_data_2023/STB_01_01_2023_12_31_2023.xls\n"
          ]
        },
        {
          "output_type": "stream",
          "name": "stderr",
          "text": [
            "<ipython-input-48-22a4dcf6f3bf>:30: FutureWarning: As the xlwt package is no longer maintained, the xlwt engine will be removed in a future version of pandas. This is the only engine in pandas that supports writing in the xls format. Install openpyxl and write to an xlsx file instead. You can set the option io.excel.xls.writer to 'xlwt' to silence this warning. While this option is deprecated and will also raise a warning, it can be globally set and the warning suppressed.\n",
            "  df.to_excel(excel_filepath, index=False)\n"
          ]
        },
        {
          "output_type": "stream",
          "name": "stdout",
          "text": [
            "Excel file saved: /content/drive/My Drive/BISS/EMTH0009 - Master Thesis/Data/HOSE_data_2023/TCB_01_01_2023_12_31_2023.xls\n"
          ]
        },
        {
          "output_type": "stream",
          "name": "stderr",
          "text": [
            "<ipython-input-48-22a4dcf6f3bf>:30: FutureWarning: As the xlwt package is no longer maintained, the xlwt engine will be removed in a future version of pandas. This is the only engine in pandas that supports writing in the xls format. Install openpyxl and write to an xlsx file instead. You can set the option io.excel.xls.writer to 'xlwt' to silence this warning. While this option is deprecated and will also raise a warning, it can be globally set and the warning suppressed.\n",
            "  df.to_excel(excel_filepath, index=False)\n"
          ]
        },
        {
          "output_type": "stream",
          "name": "stdout",
          "text": [
            "Excel file saved: /content/drive/My Drive/BISS/EMTH0009 - Master Thesis/Data/HOSE_data_2023/TPB_01_01_2023_12_31_2023.xls\n"
          ]
        },
        {
          "output_type": "stream",
          "name": "stderr",
          "text": [
            "<ipython-input-48-22a4dcf6f3bf>:30: FutureWarning: As the xlwt package is no longer maintained, the xlwt engine will be removed in a future version of pandas. This is the only engine in pandas that supports writing in the xls format. Install openpyxl and write to an xlsx file instead. You can set the option io.excel.xls.writer to 'xlwt' to silence this warning. While this option is deprecated and will also raise a warning, it can be globally set and the warning suppressed.\n",
            "  df.to_excel(excel_filepath, index=False)\n"
          ]
        },
        {
          "output_type": "stream",
          "name": "stdout",
          "text": [
            "Excel file saved: /content/drive/My Drive/BISS/EMTH0009 - Master Thesis/Data/HOSE_data_2023/VCB_01_01_2023_12_31_2023.xls\n"
          ]
        },
        {
          "output_type": "stream",
          "name": "stderr",
          "text": [
            "<ipython-input-48-22a4dcf6f3bf>:30: FutureWarning: As the xlwt package is no longer maintained, the xlwt engine will be removed in a future version of pandas. This is the only engine in pandas that supports writing in the xls format. Install openpyxl and write to an xlsx file instead. You can set the option io.excel.xls.writer to 'xlwt' to silence this warning. While this option is deprecated and will also raise a warning, it can be globally set and the warning suppressed.\n",
            "  df.to_excel(excel_filepath, index=False)\n"
          ]
        },
        {
          "output_type": "stream",
          "name": "stdout",
          "text": [
            "Excel file saved: /content/drive/My Drive/BISS/EMTH0009 - Master Thesis/Data/HOSE_data_2023/VHM_01_01_2023_12_31_2023.xls\n"
          ]
        },
        {
          "output_type": "stream",
          "name": "stderr",
          "text": [
            "<ipython-input-48-22a4dcf6f3bf>:30: FutureWarning: As the xlwt package is no longer maintained, the xlwt engine will be removed in a future version of pandas. This is the only engine in pandas that supports writing in the xls format. Install openpyxl and write to an xlsx file instead. You can set the option io.excel.xls.writer to 'xlwt' to silence this warning. While this option is deprecated and will also raise a warning, it can be globally set and the warning suppressed.\n",
            "  df.to_excel(excel_filepath, index=False)\n"
          ]
        },
        {
          "output_type": "stream",
          "name": "stdout",
          "text": [
            "Excel file saved: /content/drive/My Drive/BISS/EMTH0009 - Master Thesis/Data/HOSE_data_2023/VIB_01_01_2023_12_31_2023.xls\n"
          ]
        },
        {
          "output_type": "stream",
          "name": "stderr",
          "text": [
            "<ipython-input-48-22a4dcf6f3bf>:30: FutureWarning: As the xlwt package is no longer maintained, the xlwt engine will be removed in a future version of pandas. This is the only engine in pandas that supports writing in the xls format. Install openpyxl and write to an xlsx file instead. You can set the option io.excel.xls.writer to 'xlwt' to silence this warning. While this option is deprecated and will also raise a warning, it can be globally set and the warning suppressed.\n",
            "  df.to_excel(excel_filepath, index=False)\n"
          ]
        },
        {
          "output_type": "stream",
          "name": "stdout",
          "text": [
            "Excel file saved: /content/drive/My Drive/BISS/EMTH0009 - Master Thesis/Data/HOSE_data_2023/VIC_01_01_2023_12_31_2023.xls\n"
          ]
        },
        {
          "output_type": "stream",
          "name": "stderr",
          "text": [
            "<ipython-input-48-22a4dcf6f3bf>:30: FutureWarning: As the xlwt package is no longer maintained, the xlwt engine will be removed in a future version of pandas. This is the only engine in pandas that supports writing in the xls format. Install openpyxl and write to an xlsx file instead. You can set the option io.excel.xls.writer to 'xlwt' to silence this warning. While this option is deprecated and will also raise a warning, it can be globally set and the warning suppressed.\n",
            "  df.to_excel(excel_filepath, index=False)\n"
          ]
        },
        {
          "output_type": "stream",
          "name": "stdout",
          "text": [
            "Excel file saved: /content/drive/My Drive/BISS/EMTH0009 - Master Thesis/Data/HOSE_data_2023/VJC_01_01_2023_12_31_2023.xls\n"
          ]
        },
        {
          "output_type": "stream",
          "name": "stderr",
          "text": [
            "<ipython-input-48-22a4dcf6f3bf>:30: FutureWarning: As the xlwt package is no longer maintained, the xlwt engine will be removed in a future version of pandas. This is the only engine in pandas that supports writing in the xls format. Install openpyxl and write to an xlsx file instead. You can set the option io.excel.xls.writer to 'xlwt' to silence this warning. While this option is deprecated and will also raise a warning, it can be globally set and the warning suppressed.\n",
            "  df.to_excel(excel_filepath, index=False)\n"
          ]
        },
        {
          "output_type": "stream",
          "name": "stdout",
          "text": [
            "Excel file saved: /content/drive/My Drive/BISS/EMTH0009 - Master Thesis/Data/HOSE_data_2023/VNM_01_01_2023_12_31_2023.xls\n"
          ]
        },
        {
          "output_type": "stream",
          "name": "stderr",
          "text": [
            "<ipython-input-48-22a4dcf6f3bf>:30: FutureWarning: As the xlwt package is no longer maintained, the xlwt engine will be removed in a future version of pandas. This is the only engine in pandas that supports writing in the xls format. Install openpyxl and write to an xlsx file instead. You can set the option io.excel.xls.writer to 'xlwt' to silence this warning. While this option is deprecated and will also raise a warning, it can be globally set and the warning suppressed.\n",
            "  df.to_excel(excel_filepath, index=False)\n"
          ]
        },
        {
          "output_type": "stream",
          "name": "stdout",
          "text": [
            "Excel file saved: /content/drive/My Drive/BISS/EMTH0009 - Master Thesis/Data/HOSE_data_2023/VPB_01_01_2023_12_31_2023.xls\n"
          ]
        },
        {
          "output_type": "stream",
          "name": "stderr",
          "text": [
            "<ipython-input-48-22a4dcf6f3bf>:30: FutureWarning: As the xlwt package is no longer maintained, the xlwt engine will be removed in a future version of pandas. This is the only engine in pandas that supports writing in the xls format. Install openpyxl and write to an xlsx file instead. You can set the option io.excel.xls.writer to 'xlwt' to silence this warning. While this option is deprecated and will also raise a warning, it can be globally set and the warning suppressed.\n",
            "  df.to_excel(excel_filepath, index=False)\n"
          ]
        },
        {
          "output_type": "stream",
          "name": "stdout",
          "text": [
            "Excel file saved: /content/drive/My Drive/BISS/EMTH0009 - Master Thesis/Data/HOSE_data_2023/VRE_01_01_2023_12_31_2023.xls\n"
          ]
        },
        {
          "output_type": "stream",
          "name": "stderr",
          "text": [
            "<ipython-input-48-22a4dcf6f3bf>:30: FutureWarning: As the xlwt package is no longer maintained, the xlwt engine will be removed in a future version of pandas. This is the only engine in pandas that supports writing in the xls format. Install openpyxl and write to an xlsx file instead. You can set the option io.excel.xls.writer to 'xlwt' to silence this warning. While this option is deprecated and will also raise a warning, it can be globally set and the warning suppressed.\n",
            "  df.to_excel(excel_filepath, index=False)\n"
          ]
        },
        {
          "output_type": "stream",
          "name": "stdout",
          "text": [
            "Excel file saved: /content/drive/My Drive/BISS/EMTH0009 - Master Thesis/Data/HOSE_data_2023/VNINDEX_01_01_2023_12_31_2023.xls\n",
            "Excel file saved: /content/drive/My Drive/BISS/EMTH0009 - Master Thesis/Data/HOSE_data_2023/VN30INDEX_01_01_2023_12_31_2023.xls\n"
          ]
        },
        {
          "output_type": "stream",
          "name": "stderr",
          "text": [
            "<ipython-input-48-22a4dcf6f3bf>:30: FutureWarning: As the xlwt package is no longer maintained, the xlwt engine will be removed in a future version of pandas. This is the only engine in pandas that supports writing in the xls format. Install openpyxl and write to an xlsx file instead. You can set the option io.excel.xls.writer to 'xlwt' to silence this warning. While this option is deprecated and will also raise a warning, it can be globally set and the warning suppressed.\n",
            "  df.to_excel(excel_filepath, index=False)\n"
          ]
        }
      ]
    },
    {
      "cell_type": "code",
      "source": [
        "# Import 2019 data of HOSE and pre-process\n",
        "import os\n",
        "import pandas as pd\n",
        "\n",
        "# Function to process each file\n",
        "def process_file(file_path):\n",
        "    # Read the file into a DataFrame\n",
        "    df = pd.read_excel(file_path)\n",
        "\n",
        "    # Remove specified columns\n",
        "    df.drop(columns=['GiaDieuChinh', 'ThayDoi', 'GiaTriKhopLenh', 'GtThoaThuan'], inplace=True)\n",
        "\n",
        "    # Extract ticker from file name\n",
        "    ticker = os.path.basename(file_path).split('_')[0]\n",
        "\n",
        "    # Add 'ticker' column\n",
        "    df.insert(1, 'ticker', ticker)\n",
        "\n",
        "    # Calculate 'volume' and add as a new column\n",
        "    df['volume'] = df['KhoiLuongKhopLenh'] + df['KLThoaThuan']\n",
        "\n",
        "    # Remove columns 'KhoiLuongKhopLenh' and 'KLThoaThuan'\n",
        "    df.drop(columns=['KhoiLuongKhopLenh', 'KLThoaThuan'], inplace=True)\n",
        "\n",
        "    # Rename columns\n",
        "    df.rename(columns={'Ngay': 'date', 'GiaDongCua': 'close', 'GiaMoCua': 'open', 'GiaCaoNhat': 'high', 'GiaThapNhat': 'low'}, inplace=True)\n",
        "\n",
        "    return df\n",
        "\n",
        "# Path to the folder containing the files\n",
        "folder_path = '/content/drive/My Drive/BISS/EMTH0009 - Master Thesis/Data/HOSE_data_2019/'\n",
        "\n",
        "# List to store DataFrames\n",
        "dfs = []\n",
        "\n",
        "# Iterate through each file in the folder\n",
        "for file_name in os.listdir(folder_path):\n",
        "    if file_name.endswith('.xls'):\n",
        "        file_path = os.path.join(folder_path, file_name)\n",
        "        # Process each file and append the DataFrame to the list\n",
        "        dfs.append(process_file(file_path))\n",
        "\n",
        "# Concatenate all DataFrames into a single DataFrame\n",
        "hose_df_2019 = pd.concat(dfs, ignore_index=True)\n"
      ],
      "metadata": {
        "id": "ZHUJ4GlpgPZg"
      },
      "execution_count": 49,
      "outputs": []
    },
    {
      "cell_type": "code",
      "source": [
        "# Print the resulting DataFrame hose_df_2019 to check\n",
        "print(hose_df_2019.head(n = 20))\n",
        "print(hose_df_2019.tail(n = 20))\n",
        "\n",
        "# Export cleaned data to another .csv file for backup\n",
        "hose_df_2019.to_csv('/content/drive/My Drive/BISS/EMTH0009 - Master Thesis/Data/hose_df_2019.csv', index=False)"
      ],
      "metadata": {
        "colab": {
          "base_uri": "https://localhost:8080/"
        },
        "id": "aC5GBXwxiQC_",
        "outputId": "2bc400bf-0957-4392-9645-744197ea3ba2"
      },
      "execution_count": 50,
      "outputs": [
        {
          "output_type": "stream",
          "name": "stdout",
          "text": [
            "          date ticker  close   open   high    low   volume\n",
            "0   31/12/2019    CII  22.50  22.40  22.50  22.00   285680\n",
            "1   30/12/2019    CII  22.60  22.00  22.60  21.50   232600\n",
            "2   27/12/2019    CII  22.00  22.00  22.05  21.90   155750\n",
            "3   26/12/2019    CII  22.30  22.60  22.60  22.00    96450\n",
            "4   25/12/2019    CII  22.60  22.40  22.60  21.90   183110\n",
            "5   24/12/2019    CII  22.00  22.10  22.35  21.90   112620\n",
            "6   23/12/2019    CII  22.10  22.60  22.75  22.10   558860\n",
            "7   20/12/2019    CII  22.65  22.50  22.65  22.35   144250\n",
            "8   19/12/2019    CII  22.50  22.80  22.80  22.40    76240\n",
            "9   18/12/2019    CII  22.70  22.75  22.80  22.55   143720\n",
            "10  17/12/2019    CII  22.75  22.60  22.75  22.30  1537540\n",
            "11  16/12/2019    CII  22.75  22.60  22.90  22.55   255430\n",
            "12  13/12/2019    CII  22.75  22.85  23.00  22.60    65840\n",
            "13  12/12/2019    CII  22.75  22.40  22.85  22.35  2280580\n",
            "14  11/12/2019    CII  22.50  22.90  22.90  22.50    70810\n",
            "15  10/12/2019    CII  22.85  23.10  23.15  22.55  2871550\n",
            "16  09/12/2019    CII  23.10  23.00  23.20  23.00   260450\n",
            "17  06/12/2019    CII  23.00  22.55  23.00  22.50    85540\n",
            "18  05/12/2019    CII  22.70  22.60  23.45  22.55   251030\n",
            "19  04/12/2019    CII  22.70  22.60  23.00  22.60   648110\n",
            "            date ticker  close   open   high    low   volume\n",
            "7973  29/01/2019    HPG  29.70  29.85  29.85  29.50  1923250\n",
            "7974  28/01/2019    HPG  29.75  29.80  29.80  29.60  2737280\n",
            "7975  25/01/2019    HPG  29.70  30.00  30.10  29.55  1849490\n",
            "7976  24/01/2019    HPG  29.85  30.10  30.40  29.85  2387030\n",
            "7977  23/01/2019    HPG  30.05  29.40  30.40  29.35  3808700\n",
            "7978  22/01/2019    HPG  29.50  29.70  29.85  29.45  1815310\n",
            "7979  21/01/2019    HPG  29.55  29.30  29.75  29.20  2067140\n",
            "7980  18/01/2019    HPG  29.20  29.30  29.45  29.15  2370620\n",
            "7981  17/01/2019    HPG  28.90  29.45  29.45  28.90  1957850\n",
            "7982  16/01/2019    HPG  29.45  29.45  29.65  29.15  2981480\n",
            "7983  15/01/2019    HPG  29.30  29.30  29.60  29.15  2940430\n",
            "7984  14/01/2019    HPG  29.30  29.40  29.45  28.85  3727980\n",
            "7985  11/01/2019    HPG  29.35  29.80  29.90  29.35  2869370\n",
            "7986  10/01/2019    HPG  29.80  29.60  30.10  29.50  2765570\n",
            "7987  09/01/2019    HPG  29.50  29.00  29.80  29.00  2935340\n",
            "7988  08/01/2019    HPG  28.85  29.40  29.50  28.70  4239620\n",
            "7989  07/01/2019    HPG  29.35  30.30  30.35  29.15  2488920\n",
            "7990  04/01/2019    HPG  29.70  29.40  30.00  28.70  6669290\n",
            "7991  03/01/2019    HPG  29.50  30.75  30.90  29.50  7032510\n",
            "7992  02/01/2019    HPG  30.80  30.80  31.45  30.80  4196210\n"
          ]
        }
      ]
    },
    {
      "cell_type": "code",
      "source": [
        "# Re run the importing and pre-processing with data of 2023, HOSE\n",
        "# Path to the folder containing the files\n",
        "folder_path = '/content/drive/My Drive/BISS/EMTH0009 - Master Thesis/Data/HOSE_data_2023/'\n",
        "\n",
        "# List to store DataFrames\n",
        "dfs = []\n",
        "\n",
        "# Iterate through each file in the folder\n",
        "for file_name in os.listdir(folder_path):\n",
        "    if file_name.endswith('.xls'):\n",
        "        file_path = os.path.join(folder_path, file_name)\n",
        "        # Process each file and append the DataFrame to the list\n",
        "        dfs.append(process_file(file_path))\n",
        "\n",
        "# Concatenate all DataFrames into a single DataFrame\n",
        "hose_df_2023 = pd.concat(dfs, ignore_index=True)"
      ],
      "metadata": {
        "id": "JiQbyNT6ilQz"
      },
      "execution_count": 51,
      "outputs": []
    },
    {
      "cell_type": "code",
      "source": [
        "# Print the resulting DataFrame hose_df_2023 to check\n",
        "print(hose_df_2023.head(n = 20))\n",
        "print(hose_df_2023.tail(n = 20))\n",
        "\n",
        "# Export cleaned data to another .csv file for backup\n",
        "hose_df_2023.to_csv('/content/drive/My Drive/BISS/EMTH0009 - Master Thesis/Data/hose_df_2023.csv', index=False)\n"
      ],
      "metadata": {
        "colab": {
          "base_uri": "https://localhost:8080/"
        },
        "id": "HUBHbXGFkRHD",
        "outputId": "97667f17-885d-4ed2-ac1d-f508281b5136"
      },
      "execution_count": 52,
      "outputs": [
        {
          "output_type": "stream",
          "name": "stdout",
          "text": [
            "          date ticker  close  open  high   low   volume\n",
            "0   29/12/2023    BCM   62.9  62.7  62.9  62.1   608700\n",
            "1   28/12/2023    BCM   62.7  62.6  62.7  61.8   529400\n",
            "2   27/12/2023    BCM   62.6  62.2  63.0  62.0   464200\n",
            "3   26/12/2023    BCM   62.3  61.9  63.4  61.4   517700\n",
            "4   25/12/2023    BCM   61.9  61.2  62.0  61.0   515700\n",
            "5   22/12/2023    BCM   61.8  61.1  61.8  60.8   398000\n",
            "6   21/12/2023    BCM   61.8  60.5  61.8  60.3   781800\n",
            "7   20/12/2023    BCM   61.3  61.0  61.8  60.3   814100\n",
            "8   19/12/2023    BCM   61.0  60.0  61.0  58.7  1038000\n",
            "9   18/12/2023    BCM   60.7  61.5  61.5  59.7  1454400\n",
            "10  15/12/2023    BCM   62.0  63.0  63.3  62.0   871900\n",
            "11  14/12/2023    BCM   63.7  63.8  64.0  63.0   348300\n",
            "12  13/12/2023    BCM   63.9  64.2  64.5  63.5  1005200\n",
            "13  12/12/2023    BCM   64.4  65.0  65.3  64.1   336500\n",
            "14  11/12/2023    BCM   65.1  65.1  65.9  63.9   453600\n",
            "15  08/12/2023    BCM   65.0  64.5  67.0  64.4   514300\n",
            "16  07/12/2023    BCM   64.8  67.7  67.7  63.3  1755900\n",
            "17  06/12/2023    BCM   66.0  67.7  67.7  64.6  1216200\n",
            "18  05/12/2023    BCM   63.3  61.0  63.3  60.0  1173900\n",
            "19  04/12/2023    BCM   59.2  58.0  59.8  57.6  1667400\n",
            "            date     ticker    close     open     high      low     volume\n",
            "7948  06/02/2023  VN30INDEX  1094.37  1080.26  1094.45  1073.44  200110458\n",
            "7949  03/02/2023  VN30INDEX  1085.70  1094.05  1095.87  1081.05  217973915\n",
            "7950  02/02/2023  VN30INDEX  1093.48  1092.88  1099.39  1082.97  177250030\n",
            "7951  01/02/2023  VN30INDEX  1088.09  1128.14  1130.20  1088.09  301201938\n",
            "7952  31/01/2023  VN30INDEX  1125.07  1112.83  1125.07  1098.65  235460400\n",
            "7953  30/01/2023  VN30INDEX  1113.95  1132.91  1132.97  1113.95  207463800\n",
            "7954  27/01/2023  VN30INDEX  1130.65  1128.58  1142.08  1125.12  172091700\n",
            "7955  19/01/2023  VN30INDEX  1121.92  1110.50  1126.12  1108.96  216635136\n",
            "7956  18/01/2023  VN30INDEX  1115.72  1106.89  1117.23  1104.98  168975590\n",
            "7957  17/01/2023  VN30INDEX  1103.73  1081.15  1103.73  1080.34  227034300\n",
            "7958  16/01/2023  VN30INDEX  1075.71  1072.42  1076.97  1066.78  175402111\n",
            "7959  13/01/2023  VN30INDEX  1069.86  1071.51  1077.45  1063.68  164559600\n",
            "7960  12/01/2023  VN30INDEX  1066.24  1068.47  1072.81  1059.52  136779576\n",
            "7961  11/01/2023  VN30INDEX  1065.22  1065.92  1076.22  1063.96  171500504\n",
            "7962  10/01/2023  VN30INDEX  1060.53  1062.13  1066.08  1052.09  157044100\n",
            "7963  09/01/2023  VN30INDEX  1061.14  1064.87  1068.77  1056.64  155963075\n",
            "7964  06/01/2023  VN30INDEX  1057.40  1060.51  1075.33  1053.29  224898700\n",
            "7965  05/01/2023  VN30INDEX  1061.90  1052.42  1065.99  1051.60  173066500\n",
            "7966  04/01/2023  VN30INDEX  1050.15  1051.82  1059.01  1046.61  194066700\n",
            "7967  03/01/2023  VN30INDEX  1047.25  1010.52  1047.25  1010.03  168076890\n"
          ]
        }
      ]
    }
  ]
}